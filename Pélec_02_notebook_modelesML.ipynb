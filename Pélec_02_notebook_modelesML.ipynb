{
 "cells": [
  {
   "cell_type": "markdown",
   "id": "43fb7fa0",
   "metadata": {},
   "source": [
    "## Repères du notebook \n",
    "    \n",
    "   1. [Introduction: observation des données](#introduction)\n",
    "   \n",
    "\n",
    "   2. [modèles considérées: validation croisée des hyper-paramètres](#p1)\n",
    "   \n",
    "       [train-test split et preprocessor](#split)\n",
    "       \n",
    "       [Modèle 0: regression linéaire, sans cross validation](#m0)\n",
    "       \n",
    "       [Modèle 1: knn regressor , gridsearchCV](#m1)\n",
    "       \n",
    "       [Modèle 2: random forest regressor , gridsearchCV](#m2)\n",
    "       \n",
    "       [Modèle 3: XGboost , RandomizedsearchCV](#m3)\n",
    "       \n",
    "       [Modele 4: Elasticnet, gridsearchCV](#m4)\n",
    "       \n",
    "   \n",
    "   3. [Comparaison des modèles](#res)\n",
    "   \n",
    "   \n",
    "   4. [Modèle choisi RandomForest: comparaison avec et sans \"Energystarscore\"](#p3)\n",
    "   \n",
    "       [avec energy star score](#p4)\n",
    "       \n",
    "       [sans energy star score](#p5)\n",
    "       \n",
    "       \n",
    "   5. [Conclusion: tableaux récapitulatifs des résultats](#ccl)\n",
    "   \n",
    "   \n",
    "   "
   ]
  },
  {
   "cell_type": "markdown",
   "id": "1b3ac79d",
   "metadata": {},
   "source": [
    "## Corrections post-soutenance:\n",
    "\n",
    "   1. [Correction 1 \"Listofallpropertyuse\": Problème Encodage -> drop ](#corr1)\n",
    "   \n",
    "   \n",
    "   2. [Correction 2: \"GHGEmissionsIntensity\" et fuite des données -> drop](#corr2)\n",
    "   \n",
    "   \n",
    "   3. [Correction 3: Nouveau meilleur modèle: RandomForest](#corr3)\n",
    "   \n",
    "    \n",
    "    \n"
   ]
  },
  {
   "cell_type": "code",
   "execution_count": 1,
   "id": "ebf06519",
   "metadata": {},
   "outputs": [],
   "source": [
    "import numpy as np\n",
    "import pandas as pd\n",
    "import matplotlib.pyplot as plt\n",
    "from matplotlib.collections import LineCollection\n",
    "import seaborn as sns\n",
    "import missingno as msno\n",
    "from sklearn import decomposition\n",
    "from sklearn import preprocessing\n",
    "from sklearn.impute import KNNImputer\n",
    "import statsmodels.formula.api\n",
    "import statsmodels.api\n",
    "import time\n",
    "import dataframe_image as dfi\n",
    "import scipy.stats as stats\n",
    "\n",
    "plt.style.use('seaborn-whitegrid')\n",
    "#options d'affichage\n",
    "pd.set_option('display.max_row', 200)\n",
    "pd.set_option('display.max_column', 70)"
   ]
  },
  {
   "cell_type": "markdown",
   "id": "31c8657e",
   "metadata": {},
   "source": [
    "## 1. Introduction: observation des données <a class=\"anchor\" id=\"introduction\"></a>"
   ]
  },
  {
   "cell_type": "code",
   "execution_count": 2,
   "id": "f34ba091",
   "metadata": {},
   "outputs": [],
   "source": [
    "data = pd.read_pickle(\"cleaned_data\")"
   ]
  },
  {
   "cell_type": "code",
   "execution_count": 3,
   "id": "42a6df37",
   "metadata": {},
   "outputs": [
    {
     "data": {
      "text/html": [
       "<div>\n",
       "<style scoped>\n",
       "    .dataframe tbody tr th:only-of-type {\n",
       "        vertical-align: middle;\n",
       "    }\n",
       "\n",
       "    .dataframe tbody tr th {\n",
       "        vertical-align: top;\n",
       "    }\n",
       "\n",
       "    .dataframe thead th {\n",
       "        text-align: right;\n",
       "    }\n",
       "</style>\n",
       "<table border=\"1\" class=\"dataframe\">\n",
       "  <thead>\n",
       "    <tr style=\"text-align: right;\">\n",
       "      <th></th>\n",
       "      <th>BuildingType</th>\n",
       "      <th>PrimaryPropertyType</th>\n",
       "      <th>Latitude</th>\n",
       "      <th>Longitude</th>\n",
       "      <th>ListOfAllPropertyUseTypes</th>\n",
       "      <th>LargestPropertyUseType</th>\n",
       "      <th>ComplianceStatus</th>\n",
       "      <th>NumberofBuildings</th>\n",
       "      <th>NumberofFloors</th>\n",
       "      <th>PropertyGFATotal</th>\n",
       "      <th>PropertyGFAParking</th>\n",
       "      <th>SiteEnergyUse(kBtu)</th>\n",
       "      <th>TotalGHGEmissions</th>\n",
       "      <th>GHGEmissionsIntensity</th>\n",
       "      <th>ENERGYSTARScore</th>\n",
       "      <th>BuildingAge</th>\n",
       "    </tr>\n",
       "  </thead>\n",
       "  <tbody>\n",
       "    <tr>\n",
       "      <th>0</th>\n",
       "      <td>NonResidential</td>\n",
       "      <td>Retail Store</td>\n",
       "      <td>47.611711</td>\n",
       "      <td>-122.336816</td>\n",
       "      <td>NaN</td>\n",
       "      <td>NaN</td>\n",
       "      <td>Compliant</td>\n",
       "      <td>1.0</td>\n",
       "      <td>4.0</td>\n",
       "      <td>111077.0</td>\n",
       "      <td>0.0</td>\n",
       "      <td>16.107916</td>\n",
       "      <td>4.234251</td>\n",
       "      <td>0.24</td>\n",
       "      <td>91.0</td>\n",
       "      <td>26</td>\n",
       "    </tr>\n",
       "    <tr>\n",
       "      <th>1</th>\n",
       "      <td>NonResidential</td>\n",
       "      <td>Small- and Mid-Sized Office</td>\n",
       "      <td>47.606799</td>\n",
       "      <td>-122.337100</td>\n",
       "      <td>Office</td>\n",
       "      <td>Office</td>\n",
       "      <td>Compliant</td>\n",
       "      <td>1.0</td>\n",
       "      <td>6.0</td>\n",
       "      <td>98370.0</td>\n",
       "      <td>25920.0</td>\n",
       "      <td>15.691287</td>\n",
       "      <td>3.855241</td>\n",
       "      <td>0.20</td>\n",
       "      <td>45.0</td>\n",
       "      <td>109</td>\n",
       "    </tr>\n",
       "    <tr>\n",
       "      <th>2</th>\n",
       "      <td>NonResidential</td>\n",
       "      <td>Large Office</td>\n",
       "      <td>47.621476</td>\n",
       "      <td>-122.343050</td>\n",
       "      <td>Data Center, Office, Other, Parking, Restaurant</td>\n",
       "      <td>Office</td>\n",
       "      <td>Compliant</td>\n",
       "      <td>1.0</td>\n",
       "      <td>4.0</td>\n",
       "      <td>193788.0</td>\n",
       "      <td>37854.0</td>\n",
       "      <td>16.634519</td>\n",
       "      <td>4.760805</td>\n",
       "      <td>0.23</td>\n",
       "      <td>59.0</td>\n",
       "      <td>68</td>\n",
       "    </tr>\n",
       "    <tr>\n",
       "      <th>3</th>\n",
       "      <td>NonResidential</td>\n",
       "      <td>Small- and Mid-Sized Office</td>\n",
       "      <td>47.570897</td>\n",
       "      <td>-122.297412</td>\n",
       "      <td>Office, Parking</td>\n",
       "      <td>Office</td>\n",
       "      <td>Compliant</td>\n",
       "      <td>1.0</td>\n",
       "      <td>3.0</td>\n",
       "      <td>76598.0</td>\n",
       "      <td>21410.0</td>\n",
       "      <td>15.314463</td>\n",
       "      <td>4.902976</td>\n",
       "      <td>1.63</td>\n",
       "      <td>76.0</td>\n",
       "      <td>7</td>\n",
       "    </tr>\n",
       "    <tr>\n",
       "      <th>4</th>\n",
       "      <td>NonResidential</td>\n",
       "      <td>Large Office</td>\n",
       "      <td>47.621243</td>\n",
       "      <td>-122.329786</td>\n",
       "      <td>Office, Parking</td>\n",
       "      <td>Office</td>\n",
       "      <td>Compliant</td>\n",
       "      <td>1.0</td>\n",
       "      <td>4.0</td>\n",
       "      <td>186971.0</td>\n",
       "      <td>0.0</td>\n",
       "      <td>16.354152</td>\n",
       "      <td>5.424598</td>\n",
       "      <td>0.99</td>\n",
       "      <td>86.0</td>\n",
       "      <td>34</td>\n",
       "    </tr>\n",
       "  </tbody>\n",
       "</table>\n",
       "</div>"
      ],
      "text/plain": [
       "     BuildingType          PrimaryPropertyType   Latitude   Longitude  \\\n",
       "0  NonResidential                 Retail Store  47.611711 -122.336816   \n",
       "1  NonResidential  Small- and Mid-Sized Office  47.606799 -122.337100   \n",
       "2  NonResidential                 Large Office  47.621476 -122.343050   \n",
       "3  NonResidential  Small- and Mid-Sized Office  47.570897 -122.297412   \n",
       "4  NonResidential                 Large Office  47.621243 -122.329786   \n",
       "\n",
       "                         ListOfAllPropertyUseTypes LargestPropertyUseType  \\\n",
       "0                                              NaN                    NaN   \n",
       "1                                           Office                 Office   \n",
       "2  Data Center, Office, Other, Parking, Restaurant                 Office   \n",
       "3                                  Office, Parking                 Office   \n",
       "4                                  Office, Parking                 Office   \n",
       "\n",
       "  ComplianceStatus  NumberofBuildings  NumberofFloors  PropertyGFATotal  \\\n",
       "0        Compliant                1.0             4.0          111077.0   \n",
       "1        Compliant                1.0             6.0           98370.0   \n",
       "2        Compliant                1.0             4.0          193788.0   \n",
       "3        Compliant                1.0             3.0           76598.0   \n",
       "4        Compliant                1.0             4.0          186971.0   \n",
       "\n",
       "   PropertyGFAParking  SiteEnergyUse(kBtu)  TotalGHGEmissions  \\\n",
       "0                 0.0            16.107916           4.234251   \n",
       "1             25920.0            15.691287           3.855241   \n",
       "2             37854.0            16.634519           4.760805   \n",
       "3             21410.0            15.314463           4.902976   \n",
       "4                 0.0            16.354152           5.424598   \n",
       "\n",
       "   GHGEmissionsIntensity  ENERGYSTARScore  BuildingAge  \n",
       "0                   0.24             91.0           26  \n",
       "1                   0.20             45.0          109  \n",
       "2                   0.23             59.0           68  \n",
       "3                   1.63             76.0            7  \n",
       "4                   0.99             86.0           34  "
      ]
     },
     "execution_count": 3,
     "metadata": {},
     "output_type": "execute_result"
    }
   ],
   "source": [
    "data.head()"
   ]
  },
  {
   "cell_type": "code",
   "execution_count": 4,
   "id": "47ac8258",
   "metadata": {},
   "outputs": [
    {
     "name": "stdout",
     "output_type": "stream",
     "text": [
      "<class 'pandas.core.frame.DataFrame'>\n",
      "Int64Index: 1662 entries, 0 to 1697\n",
      "Data columns (total 16 columns):\n",
      " #   Column                     Non-Null Count  Dtype  \n",
      "---  ------                     --------------  -----  \n",
      " 0   BuildingType               1662 non-null   object \n",
      " 1   PrimaryPropertyType        1662 non-null   object \n",
      " 2   Latitude                   1662 non-null   float64\n",
      " 3   Longitude                  1662 non-null   float64\n",
      " 4   ListOfAllPropertyUseTypes  1655 non-null   object \n",
      " 5   LargestPropertyUseType     1651 non-null   object \n",
      " 6   ComplianceStatus           1662 non-null   object \n",
      " 7   NumberofBuildings          1662 non-null   float64\n",
      " 8   NumberofFloors             1662 non-null   float64\n",
      " 9   PropertyGFATotal           1662 non-null   float64\n",
      " 10  PropertyGFAParking         1662 non-null   float64\n",
      " 11  SiteEnergyUse(kBtu)        1662 non-null   float64\n",
      " 12  TotalGHGEmissions          1662 non-null   float64\n",
      " 13  GHGEmissionsIntensity      1662 non-null   float64\n",
      " 14  ENERGYSTARScore            1135 non-null   float64\n",
      " 15  BuildingAge                1662 non-null   int64  \n",
      "dtypes: float64(10), int64(1), object(5)\n",
      "memory usage: 220.7+ KB\n"
     ]
    }
   ],
   "source": [
    "data.info()"
   ]
  },
  {
   "cell_type": "markdown",
   "id": "0088a331",
   "metadata": {},
   "source": [
    "# Correction 1: <a class=\"anchor\" id=\"corr1\"></a>"
   ]
  },
  {
   "cell_type": "code",
   "execution_count": 5,
   "id": "92b11733",
   "metadata": {},
   "outputs": [
    {
     "data": {
      "text/plain": [
       "Index(['BuildingType', 'PrimaryPropertyType', 'Latitude', 'Longitude',\n",
       "       'LargestPropertyUseType', 'ComplianceStatus', 'NumberofBuildings',\n",
       "       'NumberofFloors', 'PropertyGFATotal', 'PropertyGFAParking',\n",
       "       'SiteEnergyUse(kBtu)', 'TotalGHGEmissions', 'GHGEmissionsIntensity',\n",
       "       'ENERGYSTARScore', 'BuildingAge'],\n",
       "      dtype='object')"
      ]
     },
     "execution_count": 5,
     "metadata": {},
     "output_type": "execute_result"
    }
   ],
   "source": [
    "#complète les valeurs manquantes pour nos modèles\n",
    "data['LargestPropertyUseType'] = data['LargestPropertyUseType'].fillna(\"Miss\")\n",
    "data['ListOfAllPropertyUseTypes'] = data['ListOfAllPropertyUseTypes'].fillna(\"Miss\")\n",
    "\n",
    "#correction: list pas adapter à encodage (targetencoder) et information déja disponible dans autres variables.\n",
    "data.drop('ListOfAllPropertyUseTypes', axis=1, inplace = True)\n",
    "data.columns"
   ]
  },
  {
   "cell_type": "code",
   "execution_count": 6,
   "id": "8fb50ee2",
   "metadata": {},
   "outputs": [
    {
     "data": {
      "text/html": [
       "<div>\n",
       "<style scoped>\n",
       "    .dataframe tbody tr th:only-of-type {\n",
       "        vertical-align: middle;\n",
       "    }\n",
       "\n",
       "    .dataframe tbody tr th {\n",
       "        vertical-align: top;\n",
       "    }\n",
       "\n",
       "    .dataframe thead th {\n",
       "        text-align: right;\n",
       "    }\n",
       "</style>\n",
       "<table border=\"1\" class=\"dataframe\">\n",
       "  <thead>\n",
       "    <tr style=\"text-align: right;\">\n",
       "      <th></th>\n",
       "      <th>Latitude</th>\n",
       "      <th>Longitude</th>\n",
       "      <th>NumberofBuildings</th>\n",
       "      <th>NumberofFloors</th>\n",
       "      <th>PropertyGFATotal</th>\n",
       "      <th>PropertyGFAParking</th>\n",
       "      <th>SiteEnergyUse(kBtu)</th>\n",
       "      <th>TotalGHGEmissions</th>\n",
       "      <th>GHGEmissionsIntensity</th>\n",
       "      <th>ENERGYSTARScore</th>\n",
       "      <th>BuildingAge</th>\n",
       "    </tr>\n",
       "  </thead>\n",
       "  <tbody>\n",
       "    <tr>\n",
       "      <th>count</th>\n",
       "      <td>1662.000000</td>\n",
       "      <td>1662.000000</td>\n",
       "      <td>1662.000000</td>\n",
       "      <td>1662.000000</td>\n",
       "      <td>1.662000e+03</td>\n",
       "      <td>1662.000000</td>\n",
       "      <td>1662.000000</td>\n",
       "      <td>1662.000000</td>\n",
       "      <td>1662.000000</td>\n",
       "      <td>1135.000000</td>\n",
       "      <td>1662.000000</td>\n",
       "    </tr>\n",
       "    <tr>\n",
       "      <th>mean</th>\n",
       "      <td>47.616151</td>\n",
       "      <td>-122.333033</td>\n",
       "      <td>1.056558</td>\n",
       "      <td>4.073406</td>\n",
       "      <td>1.073845e+05</td>\n",
       "      <td>13339.205475</td>\n",
       "      <td>14.901546</td>\n",
       "      <td>3.938783</td>\n",
       "      <td>1.450205</td>\n",
       "      <td>64.903084</td>\n",
       "      <td>54.071600</td>\n",
       "    </tr>\n",
       "    <tr>\n",
       "      <th>std</th>\n",
       "      <td>0.048144</td>\n",
       "      <td>0.024538</td>\n",
       "      <td>0.712486</td>\n",
       "      <td>6.490536</td>\n",
       "      <td>1.761349e+05</td>\n",
       "      <td>42261.055870</td>\n",
       "      <td>1.218225</td>\n",
       "      <td>1.399869</td>\n",
       "      <td>2.053595</td>\n",
       "      <td>27.969873</td>\n",
       "      <td>32.832291</td>\n",
       "    </tr>\n",
       "    <tr>\n",
       "      <th>min</th>\n",
       "      <td>47.499170</td>\n",
       "      <td>-122.411820</td>\n",
       "      <td>0.500000</td>\n",
       "      <td>0.000000</td>\n",
       "      <td>1.128500e+04</td>\n",
       "      <td>-1.000000</td>\n",
       "      <td>11.523130</td>\n",
       "      <td>0.053541</td>\n",
       "      <td>0.010000</td>\n",
       "      <td>1.000000</td>\n",
       "      <td>1.000000</td>\n",
       "    </tr>\n",
       "    <tr>\n",
       "      <th>25%</th>\n",
       "      <td>47.585485</td>\n",
       "      <td>-122.343395</td>\n",
       "      <td>1.000000</td>\n",
       "      <td>1.000000</td>\n",
       "      <td>2.939550e+04</td>\n",
       "      <td>0.000000</td>\n",
       "      <td>14.030261</td>\n",
       "      <td>3.020120</td>\n",
       "      <td>0.280000</td>\n",
       "      <td>46.750000</td>\n",
       "      <td>27.000000</td>\n",
       "    </tr>\n",
       "    <tr>\n",
       "      <th>50%</th>\n",
       "      <td>47.612480</td>\n",
       "      <td>-122.333015</td>\n",
       "      <td>1.000000</td>\n",
       "      <td>2.000000</td>\n",
       "      <td>4.905900e+04</td>\n",
       "      <td>0.000000</td>\n",
       "      <td>14.753962</td>\n",
       "      <td>3.917358</td>\n",
       "      <td>0.787500</td>\n",
       "      <td>72.500000</td>\n",
       "      <td>51.000000</td>\n",
       "    </tr>\n",
       "    <tr>\n",
       "      <th>75%</th>\n",
       "      <td>47.649577</td>\n",
       "      <td>-122.321770</td>\n",
       "      <td>1.000000</td>\n",
       "      <td>4.000000</td>\n",
       "      <td>1.038575e+05</td>\n",
       "      <td>0.000000</td>\n",
       "      <td>15.723156</td>\n",
       "      <td>4.915509</td>\n",
       "      <td>1.740000</td>\n",
       "      <td>88.000000</td>\n",
       "      <td>86.000000</td>\n",
       "    </tr>\n",
       "    <tr>\n",
       "      <th>max</th>\n",
       "      <td>47.733870</td>\n",
       "      <td>-122.258640</td>\n",
       "      <td>15.000000</td>\n",
       "      <td>99.000000</td>\n",
       "      <td>1.952220e+06</td>\n",
       "      <td>512608.000000</td>\n",
       "      <td>18.356130</td>\n",
       "      <td>7.637900</td>\n",
       "      <td>23.405000</td>\n",
       "      <td>100.000000</td>\n",
       "      <td>116.000000</td>\n",
       "    </tr>\n",
       "  </tbody>\n",
       "</table>\n",
       "</div>"
      ],
      "text/plain": [
       "          Latitude    Longitude  NumberofBuildings  NumberofFloors  \\\n",
       "count  1662.000000  1662.000000        1662.000000     1662.000000   \n",
       "mean     47.616151  -122.333033           1.056558        4.073406   \n",
       "std       0.048144     0.024538           0.712486        6.490536   \n",
       "min      47.499170  -122.411820           0.500000        0.000000   \n",
       "25%      47.585485  -122.343395           1.000000        1.000000   \n",
       "50%      47.612480  -122.333015           1.000000        2.000000   \n",
       "75%      47.649577  -122.321770           1.000000        4.000000   \n",
       "max      47.733870  -122.258640          15.000000       99.000000   \n",
       "\n",
       "       PropertyGFATotal  PropertyGFAParking  SiteEnergyUse(kBtu)  \\\n",
       "count      1.662000e+03         1662.000000          1662.000000   \n",
       "mean       1.073845e+05        13339.205475            14.901546   \n",
       "std        1.761349e+05        42261.055870             1.218225   \n",
       "min        1.128500e+04           -1.000000            11.523130   \n",
       "25%        2.939550e+04            0.000000            14.030261   \n",
       "50%        4.905900e+04            0.000000            14.753962   \n",
       "75%        1.038575e+05            0.000000            15.723156   \n",
       "max        1.952220e+06       512608.000000            18.356130   \n",
       "\n",
       "       TotalGHGEmissions  GHGEmissionsIntensity  ENERGYSTARScore  BuildingAge  \n",
       "count        1662.000000            1662.000000      1135.000000  1662.000000  \n",
       "mean            3.938783               1.450205        64.903084    54.071600  \n",
       "std             1.399869               2.053595        27.969873    32.832291  \n",
       "min             0.053541               0.010000         1.000000     1.000000  \n",
       "25%             3.020120               0.280000        46.750000    27.000000  \n",
       "50%             3.917358               0.787500        72.500000    51.000000  \n",
       "75%             4.915509               1.740000        88.000000    86.000000  \n",
       "max             7.637900              23.405000       100.000000   116.000000  "
      ]
     },
     "execution_count": 6,
     "metadata": {},
     "output_type": "execute_result"
    }
   ],
   "source": [
    "data.describe()"
   ]
  },
  {
   "cell_type": "code",
   "execution_count": 7,
   "id": "e1734728",
   "metadata": {},
   "outputs": [
    {
     "data": {
      "text/plain": [
       "Index(['BuildingType', 'PrimaryPropertyType', 'Latitude', 'Longitude',\n",
       "       'LargestPropertyUseType', 'ComplianceStatus', 'NumberofBuildings',\n",
       "       'NumberofFloors', 'PropertyGFATotal', 'PropertyGFAParking',\n",
       "       'SiteEnergyUse(kBtu)', 'TotalGHGEmissions', 'GHGEmissionsIntensity',\n",
       "       'ENERGYSTARScore', 'BuildingAge'],\n",
       "      dtype='object')"
      ]
     },
     "execution_count": 7,
     "metadata": {},
     "output_type": "execute_result"
    }
   ],
   "source": [
    "data.columns"
   ]
  },
  {
   "cell_type": "markdown",
   "id": "607f0823",
   "metadata": {},
   "source": [
    "# Correction 2:<a class=\"anchor\" id=\"corr2\"></a>"
   ]
  },
  {
   "cell_type": "code",
   "execution_count": 8,
   "id": "51e670bb",
   "metadata": {},
   "outputs": [
    {
     "name": "stdout",
     "output_type": "stream",
     "text": [
      "                       Latitude  Longitude  NumberofBuildings  NumberofFloors  \\\n",
      "Latitude               1.000000  -0.101548          -0.021183       -0.010749   \n",
      "Longitude             -0.101548   1.000000           0.020459       -0.013430   \n",
      "NumberofBuildings     -0.021183   0.020459           1.000000       -0.033576   \n",
      "NumberofFloors        -0.010749  -0.013430          -0.033576        1.000000   \n",
      "PropertyGFATotal      -0.018328  -0.007470           0.097204        0.684308   \n",
      "PropertyGFAParking     0.033909  -0.028218           0.003079        0.518555   \n",
      "SiteEnergyUse(kBtu)    0.044115  -0.006484           0.132879        0.424068   \n",
      "TotalGHGEmissions      0.048471   0.006991           0.117168        0.296563   \n",
      "GHGEmissionsIntensity  0.058618  -0.004943           0.012808       -0.070094   \n",
      "ENERGYSTARScore        0.051534  -0.006602          -0.032678        0.121842   \n",
      "BuildingAge           -0.066457  -0.018766          -0.029552       -0.091923   \n",
      "\n",
      "                       PropertyGFATotal  PropertyGFAParking  \\\n",
      "Latitude                      -0.018328            0.033909   \n",
      "Longitude                     -0.007470           -0.028218   \n",
      "NumberofBuildings              0.097204            0.003079   \n",
      "NumberofFloors                 0.684308            0.518555   \n",
      "PropertyGFATotal               1.000000            0.684782   \n",
      "PropertyGFAParking             0.684782            1.000000   \n",
      "SiteEnergyUse(kBtu)            0.606122            0.422739   \n",
      "TotalGHGEmissions              0.458540            0.280943   \n",
      "GHGEmissionsIntensity         -0.101294           -0.100444   \n",
      "ENERGYSTARScore                0.157252            0.106607   \n",
      "BuildingAge                   -0.225633           -0.289451   \n",
      "\n",
      "                       SiteEnergyUse(kBtu)  TotalGHGEmissions  \\\n",
      "Latitude                          0.044115           0.048471   \n",
      "Longitude                        -0.006484           0.006991   \n",
      "NumberofBuildings                 0.132879           0.117168   \n",
      "NumberofFloors                    0.424068           0.296563   \n",
      "PropertyGFATotal                  0.606122           0.458540   \n",
      "PropertyGFAParking                0.422739           0.280943   \n",
      "SiteEnergyUse(kBtu)               1.000000           0.876222   \n",
      "TotalGHGEmissions                 0.876222           1.000000   \n",
      "GHGEmissionsIntensity             0.345765           0.544266   \n",
      "ENERGYSTARScore                  -0.147592          -0.133983   \n",
      "BuildingAge                      -0.261629          -0.154666   \n",
      "\n",
      "                       GHGEmissionsIntensity  ENERGYSTARScore  BuildingAge  \n",
      "Latitude                            0.058618         0.051534    -0.066457  \n",
      "Longitude                          -0.004943        -0.006602    -0.018766  \n",
      "NumberofBuildings                   0.012808        -0.032678    -0.029552  \n",
      "NumberofFloors                     -0.070094         0.121842    -0.091923  \n",
      "PropertyGFATotal                   -0.101294         0.157252    -0.225633  \n",
      "PropertyGFAParking                 -0.100444         0.106607    -0.289451  \n",
      "SiteEnergyUse(kBtu)                 0.345765        -0.147592    -0.261629  \n",
      "TotalGHGEmissions                   0.544266        -0.133983    -0.154666  \n",
      "GHGEmissionsIntensity               1.000000        -0.310507     0.033103  \n",
      "ENERGYSTARScore                    -0.310507         1.000000     0.022083  \n",
      "BuildingAge                         0.033103         0.022083     1.000000  \n"
     ]
    }
   ],
   "source": [
    "#Correction: fuite des données: GHGEmissionsIntensity implique de connaitre TotalGHGEmissions/\n",
    "#se calcul à partir des mêmes informations,\n",
    "#de l'information non-contenu dans les données d'entrainement qui servent à la prédiction de la variable.\n",
    "print(data.corr())\n",
    "data.drop('GHGEmissionsIntensity', axis=1, inplace = True)"
   ]
  },
  {
   "cell_type": "code",
   "execution_count": 9,
   "id": "8e715261",
   "metadata": {},
   "outputs": [],
   "source": [
    "#on exclut energy star score pour le moment:\n",
    "energystar_score = data['ENERGYSTARScore']\n",
    "data = data.drop(['ENERGYSTARScore'], axis=1)"
   ]
  },
  {
   "cell_type": "code",
   "execution_count": 10,
   "id": "eeda9ba5",
   "metadata": {},
   "outputs": [],
   "source": [
    "num_data = data.select_dtypes(include=['int64','float64'])\n",
    "cat_data = data.select_dtypes(exclude=['int64','float64']) "
   ]
  },
  {
   "cell_type": "code",
   "execution_count": 11,
   "id": "9b4c2046",
   "metadata": {},
   "outputs": [
    {
     "data": {
      "text/plain": [
       "BuildingType               5\n",
       "PrimaryPropertyType       24\n",
       "LargestPropertyUseType    58\n",
       "ComplianceStatus           4\n",
       "dtype: int64"
      ]
     },
     "execution_count": 11,
     "metadata": {},
     "output_type": "execute_result"
    }
   ],
   "source": [
    "cat_data.nunique()"
   ]
  },
  {
   "cell_type": "code",
   "execution_count": 12,
   "id": "39577e52",
   "metadata": {},
   "outputs": [
    {
     "data": {
      "text/plain": [
       "Index(['BuildingType', 'PrimaryPropertyType', 'LargestPropertyUseType',\n",
       "       'ComplianceStatus'],\n",
       "      dtype='object')"
      ]
     },
     "execution_count": 12,
     "metadata": {},
     "output_type": "execute_result"
    }
   ],
   "source": [
    "cat_data.columns"
   ]
  },
  {
   "cell_type": "code",
   "execution_count": 13,
   "id": "f714b43d",
   "metadata": {},
   "outputs": [
    {
     "data": {
      "text/plain": [
       "Index(['Latitude', 'Longitude', 'NumberofBuildings', 'NumberofFloors',\n",
       "       'PropertyGFATotal', 'PropertyGFAParking', 'SiteEnergyUse(kBtu)',\n",
       "       'TotalGHGEmissions', 'BuildingAge'],\n",
       "      dtype='object')"
      ]
     },
     "execution_count": 13,
     "metadata": {},
     "output_type": "execute_result"
    }
   ],
   "source": [
    "num_data.columns"
   ]
  },
  {
   "cell_type": "markdown",
   "id": "4b011dcd",
   "metadata": {},
   "source": [
    "## 2. modèles considérées: validation croisée des hyper-paramètres <a class=\"anchor\" id=\"p1\"></a>"
   ]
  },
  {
   "cell_type": "markdown",
   "id": "72d6e59d",
   "metadata": {},
   "source": [
    "## train-test split et preprocessor de Pipeline <a class=\"anchor\" id=\"split\"></a>"
   ]
  },
  {
   "cell_type": "code",
   "execution_count": 14,
   "id": "a6944b10",
   "metadata": {},
   "outputs": [
    {
     "name": "stdout",
     "output_type": "stream",
     "text": [
      "1329 333\n",
      "Wall time: 1.99 ms\n"
     ]
    }
   ],
   "source": [
    "%%time\n",
    "from sklearn.model_selection import train_test_split\n",
    "\n",
    "X = data.drop(['TotalGHGEmissions','SiteEnergyUse(kBtu)'], axis=1)\n",
    "Y = data[['TotalGHGEmissions','SiteEnergyUse(kBtu)']]\n",
    "\n",
    "X_train, X_test, Y_train, Y_test = train_test_split(X, Y, test_size=0.2)\n",
    "\n",
    "print(X_train.shape[0], X_test.shape[0])"
   ]
  },
  {
   "cell_type": "code",
   "execution_count": 15,
   "id": "8d493050",
   "metadata": {},
   "outputs": [
    {
     "name": "stdout",
     "output_type": "stream",
     "text": [
      "Wall time: 16.9 ms\n"
     ]
    }
   ],
   "source": [
    "%%time\n",
    "from sklearn.preprocessing import StandardScaler, RobustScaler\n",
    "from category_encoders.target_encoder import TargetEncoder\n",
    "from sklearn.compose import ColumnTransformer\n",
    "\n",
    "target_features = ['BuildingType', 'PrimaryPropertyType',\n",
    "       'LargestPropertyUseType', 'ComplianceStatus']\n",
    "target_transformer = TargetEncoder()\n",
    "\n",
    "numeric_features = ['Latitude', 'Longitude', 'NumberofBuildings', 'NumberofFloors',\n",
    "       'PropertyGFATotal', 'PropertyGFAParking', 'BuildingAge']\n",
    "numeric_transformer = RobustScaler(unit_variance=True)\n",
    "\n",
    "preprocessor = ColumnTransformer(transformers=[\n",
    "    ('target', target_transformer, target_features),\n",
    "    ('numeric', numeric_transformer, numeric_features)\n",
    "])"
   ]
  },
  {
   "cell_type": "code",
   "execution_count": null,
   "id": "c96d3abd",
   "metadata": {},
   "outputs": [],
   "source": []
  },
  {
   "cell_type": "markdown",
   "id": "8ad6f4cd",
   "metadata": {},
   "source": [
    "## Modèle 0: regression linéaire, sans cross validation<a class=\"anchor\" id=\"m0\"></a>"
   ]
  },
  {
   "cell_type": "code",
   "execution_count": 16,
   "id": "e3ff253f",
   "metadata": {},
   "outputs": [],
   "source": [
    "import sklearn\n",
    "import math\n",
    "from sklearn.linear_model import LinearRegression\n",
    "from sklearn.metrics import r2_score\n",
    "import seaborn as sns\n",
    "from matplotlib.ticker import AutoMinorLocator\n",
    "\n",
    "\n",
    "%matplotlib inline"
   ]
  },
  {
   "cell_type": "code",
   "execution_count": null,
   "id": "b2e411f2",
   "metadata": {},
   "outputs": [],
   "source": []
  },
  {
   "cell_type": "code",
   "execution_count": 17,
   "id": "fadf8c87",
   "metadata": {},
   "outputs": [],
   "source": [
    "xtrain = X_train[['Latitude', 'Longitude', 'NumberofBuildings', 'NumberofFloors',\n",
    "       'PropertyGFATotal', 'PropertyGFAParking', 'BuildingAge']]\n",
    "xtest = X_test[['Latitude', 'Longitude', 'NumberofBuildings', 'NumberofFloors',\n",
    "       'PropertyGFATotal', 'PropertyGFAParking', 'BuildingAge']]\n",
    "ytrain = Y_train\n",
    "ytest = Y_test"
   ]
  },
  {
   "cell_type": "code",
   "execution_count": 18,
   "id": "ba8f773b",
   "metadata": {},
   "outputs": [],
   "source": [
    "from sklearn import preprocessing\n",
    "std_scale = preprocessing.StandardScaler().fit(xtrain)\n",
    "xtrain_scaled = std_scale.transform(xtrain)"
   ]
  },
  {
   "cell_type": "code",
   "execution_count": 19,
   "id": "c3f5ce95",
   "metadata": {},
   "outputs": [],
   "source": [
    "# attention scale:std_scale = preprocessing.StandardScaler().fit(xtest) modifie la standardisation. utiliser directement:\n",
    "xtest = std_scale.transform(xtest)"
   ]
  },
  {
   "cell_type": "code",
   "execution_count": 20,
   "id": "9fdd6a7d",
   "metadata": {},
   "outputs": [
    {
     "name": "stdout",
     "output_type": "stream",
     "text": [
      "0.019015789031982422\n",
      "Wall time: 19 ms\n"
     ]
    }
   ],
   "source": [
    "%%time\n",
    "#regr lineaire classique pour \"baseline\":\n",
    "from sklearn import linear_model\n",
    "from sklearn import metrics\n",
    "\n",
    "#modele de regression lineaire\n",
    "m0_lr = linear_model.LinearRegression(fit_intercept = True)\n",
    "\n",
    "#on fit à nos données d'entrainement et on conserve le temps d'execution:\n",
    "start = time.time()\n",
    "m0_lr_SEU = m0_lr.fit(xtrain,ytrain['SiteEnergyUse(kBtu)'])\n",
    "m0_lr_TGE = m0_lr.fit(xtrain,ytrain['TotalGHGEmissions'])\n",
    "end = time.time()\n",
    "time_fit_m0 = end - start\n",
    "print(time_fit_m0)\n"
   ]
  },
  {
   "cell_type": "code",
   "execution_count": 21,
   "id": "7a545725",
   "metadata": {},
   "outputs": [
    {
     "name": "stdout",
     "output_type": "stream",
     "text": [
      "Wall time: 997 µs\n"
     ]
    }
   ],
   "source": [
    "%%time\n",
    "ypred_SEU = m0_lr_SEU.predict(xtest)\n",
    "ypred_TGE = m0_lr_TGE.predict(xtest)\n",
    "\n",
    "#fonction pour comparer et stocker les résultats:\n",
    "def Comp_metrics(xtest, ytest, ypred):\n",
    "    mse = sklearn.metrics.mean_squared_error(ytest, ypred)\n",
    "    rmse = math.sqrt(mse)\n",
    "    R2 = metrics.r2_score(ytest, ypred)\n",
    "    MAE = metrics.mean_absolute_error(ytest, ypred)\n",
    "    print('MSE :', mse , 'RMSE :', rmse, 'R2 :', R2, 'MAE :', MAE)\n",
    "    \n",
    "    results = {'Name_metrics':['MSE', 'RMSE', 'R2', 'MAE'],\n",
    "        'result':[mse, rmse, R2, MAE]}\n",
    " \n",
    "    # Create DataFrame\n",
    "    df = pd.DataFrame(results)\n",
    "\n",
    "    return df"
   ]
  },
  {
   "cell_type": "code",
   "execution_count": 22,
   "id": "f2fbca44",
   "metadata": {},
   "outputs": [
    {
     "name": "stdout",
     "output_type": "stream",
     "text": [
      "MSE : 786.1352667224169 RMSE : 28.038103836073095 R2 : -535.0615109553489 MAE : 27.927118541586875\n",
      "Wall time: 997 µs\n"
     ]
    }
   ],
   "source": [
    "%%time\n",
    "m0_res_SEU = Comp_metrics(xtest, ytest['SiteEnergyUse(kBtu)'], ypred_SEU )"
   ]
  },
  {
   "cell_type": "code",
   "execution_count": 23,
   "id": "ba92acb8",
   "metadata": {},
   "outputs": [
    {
     "name": "stdout",
     "output_type": "stream",
     "text": [
      "MSE : 294.172936292278 RMSE : 17.151470382806192 R2 : -150.91334681027087 MAE : 16.9607946841592\n",
      "Wall time: 997 µs\n"
     ]
    }
   ],
   "source": [
    "%%time\n",
    "m0_res_TGE = Comp_metrics(xtest, ytest['TotalGHGEmissions'], ypred_TGE )"
   ]
  },
  {
   "cell_type": "code",
   "execution_count": 24,
   "id": "94012e2d",
   "metadata": {},
   "outputs": [
    {
     "name": "stdout",
     "output_type": "stream",
     "text": [
      "  Name_metrics      result\n",
      "0          MSE  294.172936\n",
      "1         RMSE   17.151470\n",
      "2           R2 -150.913347\n",
      "3          MAE   16.960795\n",
      "----------------\n",
      "  Name_metrics      result\n",
      "0          MSE  786.135267\n",
      "1         RMSE   28.038104\n",
      "2           R2 -535.061511\n",
      "3          MAE   27.927119\n",
      "Wall time: 2.99 ms\n"
     ]
    }
   ],
   "source": [
    "%%time\n",
    "print(m0_res_TGE)\n",
    "print('----------------')\n",
    "print(m0_res_SEU)\n",
    "\n",
    "\n"
   ]
  },
  {
   "cell_type": "code",
   "execution_count": null,
   "id": "89415155",
   "metadata": {},
   "outputs": [],
   "source": []
  },
  {
   "cell_type": "markdown",
   "id": "a9393c5d",
   "metadata": {},
   "source": [
    "## Modèle 1: knn regressor , gridsearchCV<a class=\"anchor\" id=\"m1\"></a>"
   ]
  },
  {
   "cell_type": "code",
   "execution_count": 25,
   "id": "245f9074",
   "metadata": {},
   "outputs": [
    {
     "name": "stdout",
     "output_type": "stream",
     "text": [
      "Wall time: 0 ns\n"
     ]
    }
   ],
   "source": [
    "%%time\n",
    "#méthode \"gridsearchcv\" pour validation croisée du parametre k d'un knn:\n",
    "from sklearn import neighbors, metrics, model_selection\n",
    "from sklearn.pipeline import Pipeline\n",
    "from sklearn.model_selection import GridSearchCV\n",
    "\n",
    "mlr_grid_cv = Pipeline([\n",
    "    ('preprocessor', preprocessor),\n",
    "    ('grid_search_mlr', GridSearchCV(neighbors.KNeighborsRegressor(), \n",
    "                            param_grid={'n_neighbors':[1,3,5,7,9,11,13,15,17, 20, 35, 50]},\n",
    "                            cv=5,\n",
    "                            scoring='neg_mean_absolute_error',\n",
    "                            return_train_score = True))])"
   ]
  },
  {
   "cell_type": "code",
   "execution_count": 26,
   "id": "c2b23468",
   "metadata": {},
   "outputs": [
    {
     "name": "stdout",
     "output_type": "stream",
     "text": [
      "2.353996992111206\n",
      "Meilleurs hyperparametres sur le training set:\n",
      "SEU : {'n_neighbors': 20}\n",
      "------------------\n",
      "TGE : {'n_neighbors': 20}\n",
      "------------------\n",
      "Wall time: 2.35 s\n"
     ]
    }
   ],
   "source": [
    "%%time\n",
    "#on entraine notre regresseur sur le jeu d'entrainement:\n",
    "start = time.time()\n",
    "m1_knn_SEU = mlr_grid_cv.fit(X_train,Y_train['SiteEnergyUse(kBtu)'])\n",
    "m1_knn_TGE = mlr_grid_cv.fit(X_train,Y_train['TotalGHGEmissions'])\n",
    "end = time.time()\n",
    "time_fit_m1 = end - start\n",
    "print(time_fit_m1)\n",
    "\n",
    "#Afficher les hyper param optimaux (les k):\n",
    "print(\"Meilleurs hyperparametres sur le training set:\")\n",
    "print(\"SEU :\", m1_knn_SEU['grid_search_mlr'].best_params_)\n",
    "print(\"------------------\")\n",
    "print(\"TGE :\", m1_knn_TGE['grid_search_mlr'].best_params_)\n",
    "print(\"------------------\")\n"
   ]
  },
  {
   "cell_type": "code",
   "execution_count": 27,
   "id": "20fac4d7",
   "metadata": {},
   "outputs": [
    {
     "name": "stdout",
     "output_type": "stream",
     "text": [
      "Wall time: 29.9 ms\n"
     ]
    }
   ],
   "source": [
    "%%time\n",
    "ypred_SEU = m1_knn_SEU.predict(X_test)\n",
    "ypred_TGE = m1_knn_TGE.predict(X_test)"
   ]
  },
  {
   "cell_type": "code",
   "execution_count": 28,
   "id": "cfad51c8",
   "metadata": {},
   "outputs": [
    {
     "name": "stdout",
     "output_type": "stream",
     "text": [
      "MSE : 123.67563342126688 RMSE : 11.12095469918239 R2 : -83.33376509945306 MAE : 11.090773452131675\n",
      "------------------\n",
      "MSE : 1.3002035881864071 RMSE : 1.1402647009297477 R2 : 0.3285640715097111 MAE : 0.9106602735895851\n",
      "Wall time: 2.97 ms\n"
     ]
    }
   ],
   "source": [
    "%%time\n",
    "m1_res_SEU = Comp_metrics(X_test, Y_test['SiteEnergyUse(kBtu)'], ypred_SEU )\n",
    "print(\"------------------\")\n",
    "m1_res_TGE = Comp_metrics(X_test, Y_test['TotalGHGEmissions'], ypred_TGE )"
   ]
  },
  {
   "cell_type": "code",
   "execution_count": null,
   "id": "a88eb944",
   "metadata": {},
   "outputs": [],
   "source": []
  },
  {
   "cell_type": "markdown",
   "id": "82f9bccb",
   "metadata": {},
   "source": [
    "## Modèle 2: random forest regressor , gridsearchCV<a class=\"anchor\" id=\"m2\"></a>"
   ]
  },
  {
   "cell_type": "code",
   "execution_count": 29,
   "id": "8733d585",
   "metadata": {},
   "outputs": [
    {
     "name": "stdout",
     "output_type": "stream",
     "text": [
      "Wall time: 25 ms\n"
     ]
    }
   ],
   "source": [
    "%%time\n",
    "from sklearn.ensemble import RandomForestRegressor\n",
    "\n",
    "#fixer les valeurs des hyperpara à tester:\n",
    "param_rfr = {\"n_estimators\": [1, 10, 25, 50, 75, 100],\n",
    "             'max_depth': [5, 15, 25, 50],\n",
    "             'min_samples_split': [2, 5, 10],\n",
    "             'bootstrap' : [True, False],\n",
    "             'min_samples_leaf': [1,2,5,10]}\n",
    "\n",
    "mlr_grid_cv = Pipeline([\n",
    "    ('preprocessor', preprocessor),\n",
    "    ('grid_search_mlr', GridSearchCV(RandomForestRegressor(), \n",
    "                            param_grid = param_rfr,\n",
    "                            cv=5,\n",
    "                            scoring='neg_mean_absolute_error',\n",
    "                            return_train_score = True))])"
   ]
  },
  {
   "cell_type": "code",
   "execution_count": 30,
   "id": "68306532",
   "metadata": {},
   "outputs": [
    {
     "name": "stdout",
     "output_type": "stream",
     "text": [
      "716.679327249527\n",
      "Wall time: 11min 56s\n"
     ]
    }
   ],
   "source": [
    "%%time\n",
    "#sur le jeu d'entrainement:\n",
    "start = time.time()\n",
    "m2_rfr_SEU = mlr_grid_cv.fit(X_train,Y_train['SiteEnergyUse(kBtu)'])\n",
    "m2_rfr_TGE = mlr_grid_cv.fit(X_train,Y_train['TotalGHGEmissions'])\n",
    "end = time.time()\n",
    "time_fit_m2 = end - start\n",
    "print(time_fit_m2)\n"
   ]
  },
  {
   "cell_type": "code",
   "execution_count": 31,
   "id": "839aeb1c",
   "metadata": {},
   "outputs": [
    {
     "name": "stdout",
     "output_type": "stream",
     "text": [
      "Meilleurs hyperparametres sur le training set:\n",
      "SEU : {'bootstrap': True, 'max_depth': 25, 'min_samples_leaf': 2, 'min_samples_split': 5, 'n_estimators': 50}\n",
      "------------------\n",
      "TGE : {'bootstrap': True, 'max_depth': 25, 'min_samples_leaf': 2, 'min_samples_split': 5, 'n_estimators': 50}\n",
      "------------------\n"
     ]
    }
   ],
   "source": [
    "#Afficher les hyper param optimaux:\n",
    "print(\"Meilleurs hyperparametres sur le training set:\")\n",
    "print(\"SEU :\", m2_rfr_SEU['grid_search_mlr'].best_params_)\n",
    "print(\"------------------\")\n",
    "print(\"TGE :\", m2_rfr_TGE['grid_search_mlr'].best_params_)\n",
    "print(\"------------------\")\n"
   ]
  },
  {
   "cell_type": "code",
   "execution_count": 32,
   "id": "fc317573",
   "metadata": {},
   "outputs": [
    {
     "data": {
      "text/plain": [
       "dict_keys(['bootstrap', 'ccp_alpha', 'criterion', 'max_depth', 'max_features', 'max_leaf_nodes', 'max_samples', 'min_impurity_decrease', 'min_impurity_split', 'min_samples_leaf', 'min_samples_split', 'min_weight_fraction_leaf', 'n_estimators', 'n_jobs', 'oob_score', 'random_state', 'verbose', 'warm_start'])"
      ]
     },
     "execution_count": 32,
     "metadata": {},
     "output_type": "execute_result"
    }
   ],
   "source": [
    "RandomForestRegressor().get_params().keys()"
   ]
  },
  {
   "cell_type": "code",
   "execution_count": 33,
   "id": "22b7803d",
   "metadata": {},
   "outputs": [
    {
     "name": "stdout",
     "output_type": "stream",
     "text": [
      "MSE : 122.42067941842801 RMSE : 11.064387891719452 R2 : -82.478018553765 MAE : 11.042435676194657\n",
      "------------------\n",
      "MSE : 0.9717402920995508 RMSE : 0.9857688837144084 R2 : 0.49818524482971616 MAE : 0.787092314337241\n",
      "Wall time: 15.6 ms\n"
     ]
    }
   ],
   "source": [
    "%%time\n",
    "ypred_SEU = m2_rfr_SEU.predict(X_test)\n",
    "ypred_TGE = m2_rfr_TGE.predict(X_test)\n",
    "\n",
    "m2_res_SEU = Comp_metrics(X_test, Y_test['SiteEnergyUse(kBtu)'], ypred_SEU )\n",
    "print(\"------------------\")\n",
    "m2_res_TGE = Comp_metrics(X_test, Y_test['TotalGHGEmissions'], ypred_TGE )"
   ]
  },
  {
   "cell_type": "code",
   "execution_count": null,
   "id": "309cd987",
   "metadata": {},
   "outputs": [],
   "source": []
  },
  {
   "cell_type": "markdown",
   "id": "262c1baf",
   "metadata": {},
   "source": [
    "## Modèle 3: XGboost , RandomizedsearchCV<a class=\"anchor\" id=\"m3\"></a>"
   ]
  },
  {
   "cell_type": "code",
   "execution_count": 34,
   "id": "9f107f20",
   "metadata": {},
   "outputs": [
    {
     "name": "stdout",
     "output_type": "stream",
     "text": [
      "Wall time: 15.7 ms\n"
     ]
    }
   ],
   "source": [
    "%%time\n",
    "import xgboost as xgb\n",
    "from sklearn.model_selection import RandomizedSearchCV\n",
    "\n",
    "#fixer les valeurs des hyperpara à tester:\n",
    "param_xgb = {'learning_rate' : [0.001, 0.01, 0.1, 0.15, 0.2],\n",
    "             'gamma': [0, 0.25, 0.5, 1.0],\n",
    "             'max_depth': [10, 15, 20, 25],\n",
    "             'n_estimators': [25, 35, 50, 75, 100]}\n",
    "\n",
    "mlr_grid_cv = Pipeline([\n",
    "    ('preprocessor', preprocessor),\n",
    "    ('grid_search_mlr', RandomizedSearchCV(xgb.XGBRegressor(tree_method='gpu_hist'), \n",
    "                            param_distributions=param_xgb,\n",
    "                            n_iter=20,\n",
    "                            cv=5,  #nombre de folds de validation croisée\n",
    "    scoring = 'neg_mean_absolute_error', #score à optimiser\n",
    "    return_train_score = True))])"
   ]
  },
  {
   "cell_type": "code",
   "execution_count": 35,
   "id": "192900e6",
   "metadata": {},
   "outputs": [
    {
     "name": "stdout",
     "output_type": "stream",
     "text": [
      "335.1861398220062\n",
      "Meilleurs hyperparametres sur le training set:\n",
      "SEU : {'n_estimators': 50, 'max_depth': 15, 'learning_rate': 0.1, 'gamma': 1.0}\n",
      "------------------\n",
      "TGE : {'n_estimators': 50, 'max_depth': 15, 'learning_rate': 0.1, 'gamma': 1.0}\n",
      "------------------\n",
      "Wall time: 5min 35s\n"
     ]
    }
   ],
   "source": [
    "%%time\n",
    "#sur le jeu d'entrainement:\n",
    "start = time.time()\n",
    "m3_xgb_SEU = mlr_grid_cv.fit(X_train,Y_train['SiteEnergyUse(kBtu)'])\n",
    "m3_xgb_TGE = mlr_grid_cv.fit(X_train,Y_train['TotalGHGEmissions'])\n",
    "end = time.time()\n",
    "time_fit_m3 = end - start\n",
    "print(time_fit_m3)\n",
    "\n",
    "#Afficher les hyper param optimaux:\n",
    "print(\"Meilleurs hyperparametres sur le training set:\")\n",
    "print(\"SEU :\", m3_xgb_SEU['grid_search_mlr'].best_params_)\n",
    "print(\"------------------\")\n",
    "print(\"TGE :\", m3_xgb_TGE['grid_search_mlr'].best_params_)\n",
    "print(\"------------------\")\n"
   ]
  },
  {
   "cell_type": "code",
   "execution_count": 36,
   "id": "cbd09af9",
   "metadata": {},
   "outputs": [
    {
     "name": "stdout",
     "output_type": "stream",
     "text": [
      "Wall time: 20.9 ms\n"
     ]
    }
   ],
   "source": [
    "%%time\n",
    "ypred_SEU = m3_xgb_SEU.predict(X_test)\n",
    "ypred_TGE = m3_xgb_TGE.predict(X_test)"
   ]
  },
  {
   "cell_type": "code",
   "execution_count": 37,
   "id": "499ed80d",
   "metadata": {},
   "outputs": [
    {
     "name": "stdout",
     "output_type": "stream",
     "text": [
      "MSE : 123.10955394784665 RMSE : 11.095474480518922 R2 : -82.94775847859806 MAE : 11.072543802799165\n",
      "------------------\n",
      "MSE : 1.0191832922695374 RMSE : 1.0095460822912135 R2 : 0.47368528562414836 MAE : 0.8091882495148206\n"
     ]
    }
   ],
   "source": [
    "m3_res_SEU = Comp_metrics(X_test, Y_test['SiteEnergyUse(kBtu)'], ypred_SEU )\n",
    "print(\"------------------\")\n",
    "m3_res_TGE = Comp_metrics(X_test, Y_test['TotalGHGEmissions'], ypred_TGE )"
   ]
  },
  {
   "cell_type": "code",
   "execution_count": null,
   "id": "ab31a27f",
   "metadata": {},
   "outputs": [],
   "source": []
  },
  {
   "cell_type": "markdown",
   "id": "d238f437",
   "metadata": {},
   "source": [
    "## Modele 4: Elasticnet, gridsearchCV <a class=\"anchor\" id=\"m4\"></a>"
   ]
  },
  {
   "cell_type": "code",
   "execution_count": 38,
   "id": "f507128e",
   "metadata": {},
   "outputs": [
    {
     "name": "stdout",
     "output_type": "stream",
     "text": [
      "Wall time: 0 ns\n"
     ]
    }
   ],
   "source": [
    "%%time\n",
    "from sklearn.linear_model import ElasticNet\n",
    "\n",
    "param_eNet = {\"max_iter\": [5, 10, 20, 30, 50, 100, 500],\n",
    "              \"alpha\": np.logspace(-4, 0, num=5),\n",
    "              \"l1_ratio\": np.arange(0.0, 1.1, 0.1)}\n",
    "\n",
    "mlr_grid_cv = Pipeline([\n",
    "    ('preprocessor', preprocessor),\n",
    "    ('grid_search_mlr', GridSearchCV( ElasticNet(),\n",
    "                        param_grid=param_eNet,\n",
    "                        cv=5,\n",
    "                        scoring='neg_mean_absolute_error',\n",
    "                        return_train_score = True))])\n"
   ]
  },
  {
   "cell_type": "code",
   "execution_count": 39,
   "id": "0c1c3aa7",
   "metadata": {},
   "outputs": [
    {
     "name": "stdout",
     "output_type": "stream",
     "text": [
      "6.770902395248413\n",
      "Meilleurs hyperparametres sur le training set:\n",
      "SEU : {'alpha': 0.001, 'l1_ratio': 1.0, 'max_iter': 20}\n",
      "------------------\n",
      "TGE : {'alpha': 0.001, 'l1_ratio': 1.0, 'max_iter': 20}\n",
      "------------------\n",
      "Wall time: 6.77 s\n"
     ]
    }
   ],
   "source": [
    "%%time\n",
    "#Warnings de convergence: certaines iter ne convergent pas. python propose de les augmenter.\n",
    "import warnings\n",
    "warnings.filterwarnings('ignore')\n",
    "#sur le jeu d'entrainement:\n",
    "start = time.time()\n",
    "m4_Enet_SEU = mlr_grid_cv.fit(X_train,Y_train['SiteEnergyUse(kBtu)'])\n",
    "m4_Enet_TGE = mlr_grid_cv.fit(X_train,Y_train['TotalGHGEmissions'])\n",
    "end = time.time()\n",
    "time_fit_m4 = end - start\n",
    "print(time_fit_m4)\n",
    "\n",
    "#Afficher les hyper param optimaux:\n",
    "print(\"Meilleurs hyperparametres sur le training set:\")\n",
    "print(\"SEU :\", m4_Enet_SEU['grid_search_mlr'].best_params_)\n",
    "print(\"------------------\")\n",
    "print(\"TGE :\", m4_Enet_TGE['grid_search_mlr'].best_params_)\n",
    "print(\"------------------\")\n"
   ]
  },
  {
   "cell_type": "code",
   "execution_count": 40,
   "id": "ef141ce5",
   "metadata": {},
   "outputs": [
    {
     "name": "stdout",
     "output_type": "stream",
     "text": [
      "MSE : 121.74427363068605 RMSE : 11.033778755743024 R2 : -82.01678099841699 MAE : 11.003801903938847\n",
      "------------------\n",
      "MSE : 1.118601784278837 RMSE : 1.057639723289002 R2 : 0.4223447508818322 MAE : 0.8419330220514959\n",
      "Wall time: 81.8 ms\n"
     ]
    }
   ],
   "source": [
    "%%time\n",
    "ypred_SEU = m4_Enet_SEU.predict(X_test)\n",
    "ypred_TGE = m4_Enet_TGE.predict(X_test)\n",
    "\n",
    "m4_res_SEU = Comp_metrics(X_test, Y_test['SiteEnergyUse(kBtu)'], ypred_SEU )\n",
    "print(\"------------------\")\n",
    "m4_res_TGE = Comp_metrics(X_test, Y_test['TotalGHGEmissions'], ypred_TGE )"
   ]
  },
  {
   "cell_type": "code",
   "execution_count": null,
   "id": "c1e48c8d",
   "metadata": {},
   "outputs": [],
   "source": []
  },
  {
   "cell_type": "code",
   "execution_count": null,
   "id": "023b7900",
   "metadata": {},
   "outputs": [],
   "source": []
  },
  {
   "cell_type": "markdown",
   "id": "7b824fb8",
   "metadata": {},
   "source": [
    "## 3. Comparaison des modèles<a class=\"anchor\" id=\"res\"></a>"
   ]
  },
  {
   "cell_type": "code",
   "execution_count": 41,
   "id": "cc3c0649",
   "metadata": {
    "scrolled": true
   },
   "outputs": [
    {
     "name": "stdout",
     "output_type": "stream",
     "text": [
      "---------------------\n",
      "metrics for SiteEnergyUse(kBtu) predictions on test data, model 0 : \n",
      "\n",
      "  Name_metrics      result\n",
      "0          MSE  786.135267\n",
      "1         RMSE   28.038104\n",
      "2           R2 -535.061511\n",
      "3          MAE   27.927119\n",
      "---------------------\n",
      "metrics for SiteEnergyUse(kBtu) predictions on test data, model 1 : \n",
      "\n",
      "  Name_metrics      result\n",
      "0          MSE  123.675633\n",
      "1         RMSE   11.120955\n",
      "2           R2  -83.333765\n",
      "3          MAE   11.090773\n",
      "---------------------\n",
      "metrics for SiteEnergyUse(kBtu) predictions on test data, model 2 : \n",
      "\n",
      "  Name_metrics      result\n",
      "0          MSE  122.420679\n",
      "1         RMSE   11.064388\n",
      "2           R2  -82.478019\n",
      "3          MAE   11.042436\n",
      "---------------------\n",
      "metrics for SiteEnergyUse(kBtu) predictions on test data, model 3 : \n",
      "\n",
      "  Name_metrics      result\n",
      "0          MSE  123.109554\n",
      "1         RMSE   11.095474\n",
      "2           R2  -82.947758\n",
      "3          MAE   11.072544\n",
      "---------------------\n",
      "metrics for SiteEnergyUse(kBtu) predictions on test data, model 4 : \n",
      "\n",
      "  Name_metrics      result\n",
      "0          MSE  121.744274\n",
      "1         RMSE   11.033779\n",
      "2           R2  -82.016781\n",
      "3          MAE   11.003802\n"
     ]
    }
   ],
   "source": [
    "for i in range(0,5):\n",
    "    print('---------------------')\n",
    "    print('metrics for SiteEnergyUse(kBtu) predictions on test data, model {} : \\n'.format(i) )\n",
    "    print(eval('m{}_res_SEU'.format(i)))\n",
    "    "
   ]
  },
  {
   "cell_type": "code",
   "execution_count": 42,
   "id": "3864fea6",
   "metadata": {
    "scrolled": true
   },
   "outputs": [
    {
     "name": "stdout",
     "output_type": "stream",
     "text": [
      "---------------------\n",
      "metrics for TotalGHGEmissions predictions on test data, model 0 : \n",
      "\n",
      "  Name_metrics      result\n",
      "0          MSE  294.172936\n",
      "1         RMSE   17.151470\n",
      "2           R2 -150.913347\n",
      "3          MAE   16.960795\n",
      "---------------------\n",
      "metrics for TotalGHGEmissions predictions on test data, model 1 : \n",
      "\n",
      "  Name_metrics    result\n",
      "0          MSE  1.300204\n",
      "1         RMSE  1.140265\n",
      "2           R2  0.328564\n",
      "3          MAE  0.910660\n",
      "---------------------\n",
      "metrics for TotalGHGEmissions predictions on test data, model 2 : \n",
      "\n",
      "  Name_metrics    result\n",
      "0          MSE  0.971740\n",
      "1         RMSE  0.985769\n",
      "2           R2  0.498185\n",
      "3          MAE  0.787092\n",
      "---------------------\n",
      "metrics for TotalGHGEmissions predictions on test data, model 3 : \n",
      "\n",
      "  Name_metrics    result\n",
      "0          MSE  1.019183\n",
      "1         RMSE  1.009546\n",
      "2           R2  0.473685\n",
      "3          MAE  0.809188\n",
      "---------------------\n",
      "metrics for TotalGHGEmissions predictions on test data, model 4 : \n",
      "\n",
      "  Name_metrics    result\n",
      "0          MSE  1.118602\n",
      "1         RMSE  1.057640\n",
      "2           R2  0.422345\n",
      "3          MAE  0.841933\n"
     ]
    }
   ],
   "source": [
    "for i in range(0,5):\n",
    "    print('---------------------')\n",
    "    print('metrics for TotalGHGEmissions predictions on test data, model {} : \\n'.format(i) )\n",
    "    print(eval('m{}_res_TGE'.format(i)))\n",
    "    "
   ]
  },
  {
   "cell_type": "code",
   "execution_count": 43,
   "id": "7c03286a",
   "metadata": {},
   "outputs": [
    {
     "data": {
      "text/html": [
       "<div>\n",
       "<style scoped>\n",
       "    .dataframe tbody tr th:only-of-type {\n",
       "        vertical-align: middle;\n",
       "    }\n",
       "\n",
       "    .dataframe tbody tr th {\n",
       "        vertical-align: top;\n",
       "    }\n",
       "\n",
       "    .dataframe thead th {\n",
       "        text-align: right;\n",
       "    }\n",
       "</style>\n",
       "<table border=\"1\" class=\"dataframe\">\n",
       "  <thead>\n",
       "    <tr style=\"text-align: right;\">\n",
       "      <th></th>\n",
       "      <th>fit runtimes</th>\n",
       "    </tr>\n",
       "  </thead>\n",
       "  <tbody>\n",
       "    <tr>\n",
       "      <th>m0</th>\n",
       "      <td>0.019016</td>\n",
       "    </tr>\n",
       "    <tr>\n",
       "      <th>m1</th>\n",
       "      <td>2.353997</td>\n",
       "    </tr>\n",
       "    <tr>\n",
       "      <th>m2</th>\n",
       "      <td>716.679327</td>\n",
       "    </tr>\n",
       "    <tr>\n",
       "      <th>m3</th>\n",
       "      <td>335.186140</td>\n",
       "    </tr>\n",
       "    <tr>\n",
       "      <th>m4</th>\n",
       "      <td>6.770902</td>\n",
       "    </tr>\n",
       "  </tbody>\n",
       "</table>\n",
       "</div>"
      ],
      "text/plain": [
       "    fit runtimes\n",
       "m0      0.019016\n",
       "m1      2.353997\n",
       "m2    716.679327\n",
       "m3    335.186140\n",
       "m4      6.770902"
      ]
     },
     "execution_count": 43,
     "metadata": {},
     "output_type": "execute_result"
    }
   ],
   "source": [
    "runtimes_fit = [eval('time_fit_m{}'.format(i)) for i in range(0,5)]\n",
    "# Calling DataFrame constructor on list\n",
    "# with indices and columns specified\n",
    "df = pd.DataFrame(runtimes_fit, index =['m{}'.format(i) for i in range(0,5)],\n",
    "                                              columns =['fit runtimes'])\n",
    "dfi.export(df, 'temps_fit_modeles.png')\n",
    "df"
   ]
  },
  {
   "cell_type": "markdown",
   "id": "6b6565eb",
   "metadata": {},
   "source": [
    "# Correction 3:<a class=\"anchor\" id=\"corr3\"></a>"
   ]
  },
  {
   "cell_type": "markdown",
   "id": "3e692730",
   "metadata": {},
   "source": [
    "## 4. Modèle final RandomForest: comparaison avec et sans \"Energystarscore\"<a class=\"anchor\" id=\"p3\"></a>"
   ]
  },
  {
   "cell_type": "code",
   "execution_count": 44,
   "id": "6155caed",
   "metadata": {},
   "outputs": [
    {
     "data": {
      "text/html": [
       "<div>\n",
       "<style scoped>\n",
       "    .dataframe tbody tr th:only-of-type {\n",
       "        vertical-align: middle;\n",
       "    }\n",
       "\n",
       "    .dataframe tbody tr th {\n",
       "        vertical-align: top;\n",
       "    }\n",
       "\n",
       "    .dataframe thead th {\n",
       "        text-align: right;\n",
       "    }\n",
       "</style>\n",
       "<table border=\"1\" class=\"dataframe\">\n",
       "  <thead>\n",
       "    <tr style=\"text-align: right;\">\n",
       "      <th></th>\n",
       "      <th>BuildingType</th>\n",
       "      <th>PrimaryPropertyType</th>\n",
       "      <th>Latitude</th>\n",
       "      <th>Longitude</th>\n",
       "      <th>LargestPropertyUseType</th>\n",
       "      <th>ComplianceStatus</th>\n",
       "      <th>NumberofBuildings</th>\n",
       "      <th>NumberofFloors</th>\n",
       "      <th>PropertyGFATotal</th>\n",
       "      <th>PropertyGFAParking</th>\n",
       "      <th>SiteEnergyUse(kBtu)</th>\n",
       "      <th>TotalGHGEmissions</th>\n",
       "      <th>BuildingAge</th>\n",
       "      <th>ENERGYSTARScore</th>\n",
       "    </tr>\n",
       "  </thead>\n",
       "  <tbody>\n",
       "    <tr>\n",
       "      <th>0</th>\n",
       "      <td>NonResidential</td>\n",
       "      <td>Retail Store</td>\n",
       "      <td>47.611711</td>\n",
       "      <td>-122.336816</td>\n",
       "      <td>Miss</td>\n",
       "      <td>Compliant</td>\n",
       "      <td>1.0</td>\n",
       "      <td>4.0</td>\n",
       "      <td>111077.0</td>\n",
       "      <td>0.0</td>\n",
       "      <td>16.107916</td>\n",
       "      <td>4.234251</td>\n",
       "      <td>26</td>\n",
       "      <td>91.0</td>\n",
       "    </tr>\n",
       "    <tr>\n",
       "      <th>1</th>\n",
       "      <td>NonResidential</td>\n",
       "      <td>Small- and Mid-Sized Office</td>\n",
       "      <td>47.606799</td>\n",
       "      <td>-122.337100</td>\n",
       "      <td>Office</td>\n",
       "      <td>Compliant</td>\n",
       "      <td>1.0</td>\n",
       "      <td>6.0</td>\n",
       "      <td>98370.0</td>\n",
       "      <td>25920.0</td>\n",
       "      <td>15.691287</td>\n",
       "      <td>3.855241</td>\n",
       "      <td>109</td>\n",
       "      <td>45.0</td>\n",
       "    </tr>\n",
       "    <tr>\n",
       "      <th>2</th>\n",
       "      <td>NonResidential</td>\n",
       "      <td>Large Office</td>\n",
       "      <td>47.621476</td>\n",
       "      <td>-122.343050</td>\n",
       "      <td>Office</td>\n",
       "      <td>Compliant</td>\n",
       "      <td>1.0</td>\n",
       "      <td>4.0</td>\n",
       "      <td>193788.0</td>\n",
       "      <td>37854.0</td>\n",
       "      <td>16.634519</td>\n",
       "      <td>4.760805</td>\n",
       "      <td>68</td>\n",
       "      <td>59.0</td>\n",
       "    </tr>\n",
       "    <tr>\n",
       "      <th>3</th>\n",
       "      <td>NonResidential</td>\n",
       "      <td>Small- and Mid-Sized Office</td>\n",
       "      <td>47.570897</td>\n",
       "      <td>-122.297412</td>\n",
       "      <td>Office</td>\n",
       "      <td>Compliant</td>\n",
       "      <td>1.0</td>\n",
       "      <td>3.0</td>\n",
       "      <td>76598.0</td>\n",
       "      <td>21410.0</td>\n",
       "      <td>15.314463</td>\n",
       "      <td>4.902976</td>\n",
       "      <td>7</td>\n",
       "      <td>76.0</td>\n",
       "    </tr>\n",
       "    <tr>\n",
       "      <th>4</th>\n",
       "      <td>NonResidential</td>\n",
       "      <td>Large Office</td>\n",
       "      <td>47.621243</td>\n",
       "      <td>-122.329786</td>\n",
       "      <td>Office</td>\n",
       "      <td>Compliant</td>\n",
       "      <td>1.0</td>\n",
       "      <td>4.0</td>\n",
       "      <td>186971.0</td>\n",
       "      <td>0.0</td>\n",
       "      <td>16.354152</td>\n",
       "      <td>5.424598</td>\n",
       "      <td>34</td>\n",
       "      <td>86.0</td>\n",
       "    </tr>\n",
       "  </tbody>\n",
       "</table>\n",
       "</div>"
      ],
      "text/plain": [
       "     BuildingType          PrimaryPropertyType   Latitude   Longitude  \\\n",
       "0  NonResidential                 Retail Store  47.611711 -122.336816   \n",
       "1  NonResidential  Small- and Mid-Sized Office  47.606799 -122.337100   \n",
       "2  NonResidential                 Large Office  47.621476 -122.343050   \n",
       "3  NonResidential  Small- and Mid-Sized Office  47.570897 -122.297412   \n",
       "4  NonResidential                 Large Office  47.621243 -122.329786   \n",
       "\n",
       "  LargestPropertyUseType ComplianceStatus  NumberofBuildings  NumberofFloors  \\\n",
       "0                   Miss        Compliant                1.0             4.0   \n",
       "1                 Office        Compliant                1.0             6.0   \n",
       "2                 Office        Compliant                1.0             4.0   \n",
       "3                 Office        Compliant                1.0             3.0   \n",
       "4                 Office        Compliant                1.0             4.0   \n",
       "\n",
       "   PropertyGFATotal  PropertyGFAParking  SiteEnergyUse(kBtu)  \\\n",
       "0          111077.0                 0.0            16.107916   \n",
       "1           98370.0             25920.0            15.691287   \n",
       "2          193788.0             37854.0            16.634519   \n",
       "3           76598.0             21410.0            15.314463   \n",
       "4          186971.0                 0.0            16.354152   \n",
       "\n",
       "   TotalGHGEmissions  BuildingAge  ENERGYSTARScore  \n",
       "0           4.234251           26             91.0  \n",
       "1           3.855241          109             45.0  \n",
       "2           4.760805           68             59.0  \n",
       "3           4.902976            7             76.0  \n",
       "4           5.424598           34             86.0  "
      ]
     },
     "execution_count": 44,
     "metadata": {},
     "output_type": "execute_result"
    }
   ],
   "source": [
    "data['ENERGYSTARScore'] = energystar_score\n",
    "data.head()"
   ]
  },
  {
   "cell_type": "code",
   "execution_count": 45,
   "id": "41e165d9",
   "metadata": {},
   "outputs": [
    {
     "data": {
      "text/plain": [
       "(527, 14)"
      ]
     },
     "execution_count": 45,
     "metadata": {},
     "output_type": "execute_result"
    }
   ],
   "source": [
    "data_sans = data[data['ENERGYSTARScore'].isna()]\n",
    "data_sans.shape"
   ]
  },
  {
   "cell_type": "code",
   "execution_count": 46,
   "id": "6f660aa8",
   "metadata": {},
   "outputs": [
    {
     "data": {
      "text/plain": [
       "(1135, 14)"
      ]
     },
     "execution_count": 46,
     "metadata": {},
     "output_type": "execute_result"
    }
   ],
   "source": [
    "data_avec = data[data['ENERGYSTARScore'].notna()]\n",
    "data_avec.shape"
   ]
  },
  {
   "cell_type": "markdown",
   "id": "64a863ba",
   "metadata": {},
   "source": [
    "## avec energy star score<a class=\"anchor\" id=\"p4\"></a>"
   ]
  },
  {
   "cell_type": "code",
   "execution_count": 47,
   "id": "04c2ca22",
   "metadata": {},
   "outputs": [
    {
     "name": "stdout",
     "output_type": "stream",
     "text": [
      "908 227\n",
      "Wall time: 2.02 ms\n"
     ]
    }
   ],
   "source": [
    "%%time\n",
    "from sklearn.model_selection import train_test_split\n",
    "\n",
    "X = data_avec.drop(['TotalGHGEmissions','SiteEnergyUse(kBtu)'], axis=1)\n",
    "Y = data_avec[['TotalGHGEmissions','SiteEnergyUse(kBtu)']]\n",
    "\n",
    "X_train, X_test, Y_train, Y_test = train_test_split(X, Y, test_size=0.2)\n",
    "\n",
    "print(X_train.shape[0], X_test.shape[0])"
   ]
  },
  {
   "cell_type": "code",
   "execution_count": 48,
   "id": "cccef896",
   "metadata": {},
   "outputs": [
    {
     "data": {
      "text/plain": [
       "count    1135.000000\n",
       "mean       64.903084\n",
       "std        27.969873\n",
       "min         1.000000\n",
       "25%        46.750000\n",
       "50%        72.500000\n",
       "75%        88.000000\n",
       "max       100.000000\n",
       "Name: ENERGYSTARScore, dtype: float64"
      ]
     },
     "execution_count": 48,
     "metadata": {},
     "output_type": "execute_result"
    }
   ],
   "source": [
    "data_avec['ENERGYSTARScore'].describe()"
   ]
  },
  {
   "cell_type": "code",
   "execution_count": 49,
   "id": "e6eefcd2",
   "metadata": {},
   "outputs": [
    {
     "data": {
      "text/plain": [
       "<AxesSubplot:>"
      ]
     },
     "execution_count": 49,
     "metadata": {},
     "output_type": "execute_result"
    },
    {
     "data": {
      "image/png": "[encoded data removed]",
      "text/plain": [
       "<Figure size 1800x720 with 3 Axes>"
      ]
     },
     "metadata": {
      "needs_background": "light"
     },
     "output_type": "display_data"
    }
   ],
   "source": [
    "msno.bar(X_train)"
   ]
  },
  {
   "cell_type": "code",
   "execution_count": 50,
   "id": "835c4037",
   "metadata": {},
   "outputs": [
    {
     "name": "stdout",
     "output_type": "stream",
     "text": [
      "Wall time: 0 ns\n"
     ]
    }
   ],
   "source": [
    "%%time\n",
    "from sklearn.preprocessing import StandardScaler, OrdinalEncoder, RobustScaler\n",
    "from category_encoders.target_encoder import TargetEncoder\n",
    "from sklearn.compose import ColumnTransformer\n",
    "\n",
    "target_features = ['BuildingType', 'PrimaryPropertyType',\n",
    "       'LargestPropertyUseType', 'ComplianceStatus']\n",
    "target_transformer = TargetEncoder()\n",
    "\n",
    "numeric_features = ['Latitude', 'Longitude', 'NumberofBuildings', 'NumberofFloors',\n",
    "       'PropertyGFATotal', 'PropertyGFAParking', 'BuildingAge', 'ENERGYSTARScore']\n",
    "numeric_transformer = RobustScaler(unit_variance=True)\n",
    "\n",
    "preprocessor = ColumnTransformer(transformers=[\n",
    "    ('target', target_transformer, target_features),\n",
    "    ('numeric', numeric_transformer, numeric_features)\n",
    "])"
   ]
  },
  {
   "cell_type": "code",
   "execution_count": 51,
   "id": "157fc2e1",
   "metadata": {},
   "outputs": [
    {
     "name": "stdout",
     "output_type": "stream",
     "text": [
      "Wall time: 0 ns\n"
     ]
    }
   ],
   "source": [
    "%%time\n",
    "from sklearn.ensemble import RandomForestRegressor\n",
    "\n",
    "#fixer les valeurs des hyperpara à tester:\n",
    "param_rfr = {\"n_estimators\": [1, 10, 25, 50, 75, 100],\n",
    "             'max_depth': [5, 15, 25, 50],\n",
    "             'min_samples_split': [2, 5, 10],\n",
    "             'bootstrap' : [True, False],\n",
    "             'min_samples_leaf': [1,2,5,10]}\n",
    "\n",
    "mlr_grid_cv = Pipeline([\n",
    "    ('preprocessor', preprocessor),\n",
    "    ('grid_search_mlr', GridSearchCV(RandomForestRegressor(), \n",
    "                            param_grid = param_rfr,\n",
    "                            cv=5,\n",
    "                            scoring='neg_mean_absolute_error',\n",
    "                            return_train_score = True))])"
   ]
  },
  {
   "cell_type": "code",
   "execution_count": 52,
   "id": "cfcd548c",
   "metadata": {},
   "outputs": [
    {
     "name": "stdout",
     "output_type": "stream",
     "text": [
      "Meilleurs hyperparametres sur le training set:\n",
      "SEU : {'bootstrap': True, 'max_depth': 25, 'min_samples_leaf': 1, 'min_samples_split': 2, 'n_estimators': 100}\n",
      "------------------\n",
      "TGE : {'bootstrap': True, 'max_depth': 25, 'min_samples_leaf': 1, 'min_samples_split': 2, 'n_estimators': 100}\n",
      "------------------\n",
      "Wall time: 9min 48s\n"
     ]
    }
   ],
   "source": [
    "%%time\n",
    "#entrainement:\n",
    "mfavec_rfr_SEU = mlr_grid_cv.fit(X_train,Y_train['SiteEnergyUse(kBtu)'])\n",
    "mfavec_rfr_TGE = mlr_grid_cv.fit(X_train,Y_train['TotalGHGEmissions'])\n",
    "\n",
    "#Afficher les hyper param optimaux:\n",
    "print(\"Meilleurs hyperparametres sur le training set:\")\n",
    "print(\"SEU :\", mfavec_rfr_SEU['grid_search_mlr'].best_params_)\n",
    "print(\"------------------\")\n",
    "print(\"TGE :\", mfavec_rfr_TGE['grid_search_mlr'].best_params_)\n",
    "print(\"------------------\")\n"
   ]
  },
  {
   "cell_type": "code",
   "execution_count": 53,
   "id": "1dde8ba1",
   "metadata": {},
   "outputs": [
    {
     "name": "stdout",
     "output_type": "stream",
     "text": [
      "Wall time: 32.9 ms\n"
     ]
    }
   ],
   "source": [
    "%%time\n",
    "ypred_SEU = mfavec_rfr_SEU.predict(X_test)\n",
    "ypred_TGE = mfavec_rfr_TGE.predict(X_test)"
   ]
  },
  {
   "cell_type": "code",
   "execution_count": 54,
   "id": "fdf7d441",
   "metadata": {},
   "outputs": [
    {
     "name": "stdout",
     "output_type": "stream",
     "text": [
      "MSE : 121.53296520629986 RMSE : 11.024199073234294 R2 : -89.97759295436376 MAE : 11.004750237987054\n",
      "------------------\n",
      "MSE : 0.9521656539853464 RMSE : 0.9757897591107145 R2 : 0.5197410090763408 MAE : 0.7467370895944531\n"
     ]
    }
   ],
   "source": [
    "mfavec_res_SEU = Comp_metrics(X_test, Y_test['SiteEnergyUse(kBtu)'], ypred_SEU )\n",
    "print(\"------------------\")\n",
    "mfavec_res_TGE = Comp_metrics(X_test, Y_test['TotalGHGEmissions'], ypred_TGE )"
   ]
  },
  {
   "cell_type": "code",
   "execution_count": null,
   "id": "c0fd365b",
   "metadata": {},
   "outputs": [],
   "source": []
  },
  {
   "cell_type": "markdown",
   "id": "c5383482",
   "metadata": {},
   "source": [
    "## sans energy star score<a class=\"anchor\" id=\"p5\"></a>"
   ]
  },
  {
   "cell_type": "code",
   "execution_count": 55,
   "id": "bfbe58c1",
   "metadata": {},
   "outputs": [
    {
     "name": "stdout",
     "output_type": "stream",
     "text": [
      "Wall time: 0 ns\n"
     ]
    }
   ],
   "source": [
    "%%time\n",
    "from sklearn.preprocessing import StandardScaler, OrdinalEncoder, RobustScaler\n",
    "from category_encoders.target_encoder import TargetEncoder\n",
    "from sklearn.compose import ColumnTransformer\n",
    "\n",
    "target_features = ['BuildingType', 'PrimaryPropertyType',\n",
    "       'LargestPropertyUseType', 'ComplianceStatus']\n",
    "target_transformer = TargetEncoder()\n",
    "\n",
    "numeric_features = ['Latitude', 'Longitude', 'NumberofBuildings', 'NumberofFloors',\n",
    "       'PropertyGFATotal', 'PropertyGFAParking', 'BuildingAge']\n",
    "numeric_transformer = RobustScaler(unit_variance=True)\n",
    "\n",
    "preprocessor = ColumnTransformer(transformers=[\n",
    "    ('target', target_transformer, target_features),\n",
    "    ('numeric', numeric_transformer, numeric_features)\n",
    "])"
   ]
  },
  {
   "cell_type": "code",
   "execution_count": 56,
   "id": "5dbbe9d8",
   "metadata": {},
   "outputs": [
    {
     "name": "stdout",
     "output_type": "stream",
     "text": [
      "Wall time: 0 ns\n"
     ]
    }
   ],
   "source": [
    "%%time\n",
    "from sklearn.ensemble import RandomForestRegressor\n",
    "\n",
    "#fixer les valeurs des hyperpara à tester:\n",
    "param_rfr = {\"n_estimators\": [1, 10, 25, 50, 75, 100],\n",
    "             'max_depth': [5, 15, 25, 50],\n",
    "             'min_samples_split': [2, 5, 10],\n",
    "             'bootstrap' : [True, False],\n",
    "             'min_samples_leaf': [1,2,5,10]}\n",
    "\n",
    "mlr_grid_cv = Pipeline([\n",
    "    ('preprocessor', preprocessor),\n",
    "    ('grid_search_mlr', GridSearchCV(RandomForestRegressor(), \n",
    "                            param_grid = param_rfr,\n",
    "                            cv=5,\n",
    "                            scoring='neg_mean_absolute_error',\n",
    "                            return_train_score = True))])"
   ]
  },
  {
   "cell_type": "code",
   "execution_count": 57,
   "id": "6a48c725",
   "metadata": {},
   "outputs": [
    {
     "name": "stdout",
     "output_type": "stream",
     "text": [
      "Meilleurs hyperparametres sur le training set:\n",
      "SEU : {'bootstrap': True, 'max_depth': 15, 'min_samples_leaf': 2, 'min_samples_split': 5, 'n_estimators': 100}\n",
      "------------------\n",
      "TGE : {'bootstrap': True, 'max_depth': 15, 'min_samples_leaf': 2, 'min_samples_split': 5, 'n_estimators': 100}\n",
      "------------------\n",
      "Wall time: 8min 59s\n"
     ]
    }
   ],
   "source": [
    "%%time\n",
    "#entrainement:\n",
    "mfsans_rfr_SEU = mlr_grid_cv.fit(X_train,Y_train['SiteEnergyUse(kBtu)'])\n",
    "mfsans_rfr_TGE = mlr_grid_cv.fit(X_train,Y_train['TotalGHGEmissions'])\n",
    "\n",
    "#Afficher les hyper param optimaux:\n",
    "print(\"Meilleurs hyperparametres sur le training set:\")\n",
    "print(\"SEU :\", mfsans_rfr_SEU['grid_search_mlr'].best_params_)\n",
    "print(\"------------------\")\n",
    "print(\"TGE :\", mfsans_rfr_TGE['grid_search_mlr'].best_params_)\n",
    "print(\"------------------\")\n"
   ]
  },
  {
   "cell_type": "code",
   "execution_count": 58,
   "id": "fcb6aba6",
   "metadata": {},
   "outputs": [],
   "source": [
    "ypred_SEU = mfsans_rfr_SEU.predict(X_test)\n",
    "ypred_TGE = mfsans_rfr_TGE.predict(X_test)"
   ]
  },
  {
   "cell_type": "code",
   "execution_count": 59,
   "id": "90b9077a",
   "metadata": {},
   "outputs": [
    {
     "name": "stdout",
     "output_type": "stream",
     "text": [
      "MSE : 121.18259831316979 RMSE : 11.008296794380582 R2 : -89.71531402013579 MAE : 10.983385345676151\n",
      "------------------\n",
      "MSE : 1.0157785180238768 RMSE : 1.00785838192867 R2 : 0.4876555733488106 MAE : 0.7660548539029857\n"
     ]
    }
   ],
   "source": [
    "mfsans_res_SEU = Comp_metrics(X_test, Y_test['SiteEnergyUse(kBtu)'], ypred_SEU )\n",
    "print(\"------------------\")\n",
    "mfsans_res_TGE = Comp_metrics(X_test, Y_test['TotalGHGEmissions'], ypred_TGE )"
   ]
  },
  {
   "cell_type": "code",
   "execution_count": 60,
   "id": "f56a19ed",
   "metadata": {},
   "outputs": [
    {
     "name": "stdout",
     "output_type": "stream",
     "text": [
      "---------------------\n",
      "metrics for TotalGHGEmissions predictions on test data, model 0 : \n",
      "\n",
      "  Name_metrics      result\n",
      "0          MSE  294.172936\n",
      "1         RMSE   17.151470\n",
      "2           R2 -150.913347\n",
      "3          MAE   16.960795\n",
      "---------------------\n",
      "metrics for TotalGHGEmissions predictions on test data, model 1 : \n",
      "\n",
      "  Name_metrics    result\n",
      "0          MSE  1.300204\n",
      "1         RMSE  1.140265\n",
      "2           R2  0.328564\n",
      "3          MAE  0.910660\n",
      "---------------------\n",
      "metrics for TotalGHGEmissions predictions on test data, model 2 : \n",
      "\n",
      "  Name_metrics    result\n",
      "0          MSE  0.971740\n",
      "1         RMSE  0.985769\n",
      "2           R2  0.498185\n",
      "3          MAE  0.787092\n",
      "---------------------\n",
      "metrics for TotalGHGEmissions predictions on test data, model 3 : \n",
      "\n",
      "  Name_metrics    result\n",
      "0          MSE  1.019183\n",
      "1         RMSE  1.009546\n",
      "2           R2  0.473685\n",
      "3          MAE  0.809188\n",
      "---------------------\n",
      "metrics for TotalGHGEmissions predictions on test data, model 4 : \n",
      "\n",
      "  Name_metrics    result\n",
      "0          MSE  1.118602\n",
      "1         RMSE  1.057640\n",
      "2           R2  0.422345\n",
      "3          MAE  0.841933\n"
     ]
    }
   ],
   "source": [
    "for i in range(0,5):\n",
    "    print('---------------------')\n",
    "    print('metrics for TotalGHGEmissions predictions on test data, model {} : \\n'.format(i) )\n",
    "    print(eval('m{}_res_TGE'.format(i)))"
   ]
  },
  {
   "cell_type": "code",
   "execution_count": 61,
   "id": "a54d4774",
   "metadata": {},
   "outputs": [
    {
     "data": {
      "text/plain": [
       "0    121.182598\n",
       "1     11.008297\n",
       "2    -89.715314\n",
       "3     10.983385\n",
       "Name: result, dtype: float64"
      ]
     },
     "execution_count": 61,
     "metadata": {},
     "output_type": "execute_result"
    }
   ],
   "source": [
    "mfsans_res_SEU['result']"
   ]
  },
  {
   "cell_type": "markdown",
   "id": "47d3060d",
   "metadata": {},
   "source": [
    "## 5. Conclusion: tableaux récapitulatifs des résultats<a class=\"anchor\" id=\"ccl\"></a>"
   ]
  },
  {
   "cell_type": "code",
   "execution_count": 62,
   "id": "988be3ad",
   "metadata": {},
   "outputs": [
    {
     "data": {
      "text/html": [
       "<div>\n",
       "<style scoped>\n",
       "    .dataframe tbody tr th:only-of-type {\n",
       "        vertical-align: middle;\n",
       "    }\n",
       "\n",
       "    .dataframe tbody tr th {\n",
       "        vertical-align: top;\n",
       "    }\n",
       "\n",
       "    .dataframe thead th {\n",
       "        text-align: right;\n",
       "    }\n",
       "</style>\n",
       "<table border=\"1\" class=\"dataframe\">\n",
       "  <thead>\n",
       "    <tr style=\"text-align: right;\">\n",
       "      <th></th>\n",
       "      <th>Name_metrics</th>\n",
       "      <th>m0</th>\n",
       "      <th>m1</th>\n",
       "      <th>m2</th>\n",
       "      <th>m3</th>\n",
       "      <th>m4</th>\n",
       "      <th>mfSANS</th>\n",
       "      <th>mfAVEC</th>\n",
       "    </tr>\n",
       "  </thead>\n",
       "  <tbody>\n",
       "    <tr>\n",
       "      <th>0</th>\n",
       "      <td>MSE</td>\n",
       "      <td>786.135267</td>\n",
       "      <td>123.675633</td>\n",
       "      <td>122.420679</td>\n",
       "      <td>123.109554</td>\n",
       "      <td>121.744274</td>\n",
       "      <td>121.182598</td>\n",
       "      <td>121.532965</td>\n",
       "    </tr>\n",
       "    <tr>\n",
       "      <th>1</th>\n",
       "      <td>RMSE</td>\n",
       "      <td>28.038104</td>\n",
       "      <td>11.120955</td>\n",
       "      <td>11.064388</td>\n",
       "      <td>11.095474</td>\n",
       "      <td>11.033779</td>\n",
       "      <td>11.008297</td>\n",
       "      <td>11.024199</td>\n",
       "    </tr>\n",
       "    <tr>\n",
       "      <th>2</th>\n",
       "      <td>R2</td>\n",
       "      <td>-535.061511</td>\n",
       "      <td>-83.333765</td>\n",
       "      <td>-82.478019</td>\n",
       "      <td>-82.947758</td>\n",
       "      <td>-82.016781</td>\n",
       "      <td>-89.715314</td>\n",
       "      <td>-89.977593</td>\n",
       "    </tr>\n",
       "    <tr>\n",
       "      <th>3</th>\n",
       "      <td>MAE</td>\n",
       "      <td>27.927119</td>\n",
       "      <td>11.090773</td>\n",
       "      <td>11.042436</td>\n",
       "      <td>11.072544</td>\n",
       "      <td>11.003802</td>\n",
       "      <td>10.983385</td>\n",
       "      <td>11.004750</td>\n",
       "    </tr>\n",
       "  </tbody>\n",
       "</table>\n",
       "</div>"
      ],
      "text/plain": [
       "  Name_metrics          m0          m1          m2          m3          m4  \\\n",
       "0          MSE  786.135267  123.675633  122.420679  123.109554  121.744274   \n",
       "1         RMSE   28.038104   11.120955   11.064388   11.095474   11.033779   \n",
       "2           R2 -535.061511  -83.333765  -82.478019  -82.947758  -82.016781   \n",
       "3          MAE   27.927119   11.090773   11.042436   11.072544   11.003802   \n",
       "\n",
       "       mfSANS      mfAVEC  \n",
       "0  121.182598  121.532965  \n",
       "1   11.008297   11.024199  \n",
       "2  -89.715314  -89.977593  \n",
       "3   10.983385   11.004750  "
      ]
     },
     "execution_count": 62,
     "metadata": {},
     "output_type": "execute_result"
    }
   ],
   "source": [
    "results_SEU = pd.concat([m0_res_SEU['Name_metrics'], m0_res_SEU['result'], m1_res_SEU['result'], m2_res_SEU['result'], m3_res_SEU['result'], m4_res_SEU['result'],\n",
    "                    mfsans_res_SEU['result'],\n",
    "                    mfavec_res_SEU['result']], axis = 1, keys = ['Name_metrics', \"m0\",\"m1\",\"m2\",\"m3\",\"m4\", \"mfSANS\", \"mfAVEC\"] )\n",
    "\n",
    "dfi.export(results_SEU, 'resultats_SiteEnergyUse_table.png')\n",
    "results_SEU\n"
   ]
  },
  {
   "cell_type": "code",
   "execution_count": 63,
   "id": "5efcd8dd",
   "metadata": {},
   "outputs": [
    {
     "data": {
      "text/html": [
       "<div>\n",
       "<style scoped>\n",
       "    .dataframe tbody tr th:only-of-type {\n",
       "        vertical-align: middle;\n",
       "    }\n",
       "\n",
       "    .dataframe tbody tr th {\n",
       "        vertical-align: top;\n",
       "    }\n",
       "\n",
       "    .dataframe thead th {\n",
       "        text-align: right;\n",
       "    }\n",
       "</style>\n",
       "<table border=\"1\" class=\"dataframe\">\n",
       "  <thead>\n",
       "    <tr style=\"text-align: right;\">\n",
       "      <th></th>\n",
       "      <th>Name_metrics</th>\n",
       "      <th>m0</th>\n",
       "      <th>m1</th>\n",
       "      <th>m2</th>\n",
       "      <th>m3</th>\n",
       "      <th>m4</th>\n",
       "      <th>mfSANS</th>\n",
       "      <th>mfAVEC</th>\n",
       "    </tr>\n",
       "  </thead>\n",
       "  <tbody>\n",
       "    <tr>\n",
       "      <th>0</th>\n",
       "      <td>MSE</td>\n",
       "      <td>294.172936</td>\n",
       "      <td>1.300204</td>\n",
       "      <td>0.971740</td>\n",
       "      <td>1.019183</td>\n",
       "      <td>1.118602</td>\n",
       "      <td>1.015779</td>\n",
       "      <td>0.952166</td>\n",
       "    </tr>\n",
       "    <tr>\n",
       "      <th>1</th>\n",
       "      <td>RMSE</td>\n",
       "      <td>17.151470</td>\n",
       "      <td>1.140265</td>\n",
       "      <td>0.985769</td>\n",
       "      <td>1.009546</td>\n",
       "      <td>1.057640</td>\n",
       "      <td>1.007858</td>\n",
       "      <td>0.975790</td>\n",
       "    </tr>\n",
       "    <tr>\n",
       "      <th>2</th>\n",
       "      <td>R2</td>\n",
       "      <td>-150.913347</td>\n",
       "      <td>0.328564</td>\n",
       "      <td>0.498185</td>\n",
       "      <td>0.473685</td>\n",
       "      <td>0.422345</td>\n",
       "      <td>0.487656</td>\n",
       "      <td>0.519741</td>\n",
       "    </tr>\n",
       "    <tr>\n",
       "      <th>3</th>\n",
       "      <td>MAE</td>\n",
       "      <td>16.960795</td>\n",
       "      <td>0.910660</td>\n",
       "      <td>0.787092</td>\n",
       "      <td>0.809188</td>\n",
       "      <td>0.841933</td>\n",
       "      <td>0.766055</td>\n",
       "      <td>0.746737</td>\n",
       "    </tr>\n",
       "  </tbody>\n",
       "</table>\n",
       "</div>"
      ],
      "text/plain": [
       "  Name_metrics          m0        m1        m2        m3        m4    mfSANS  \\\n",
       "0          MSE  294.172936  1.300204  0.971740  1.019183  1.118602  1.015779   \n",
       "1         RMSE   17.151470  1.140265  0.985769  1.009546  1.057640  1.007858   \n",
       "2           R2 -150.913347  0.328564  0.498185  0.473685  0.422345  0.487656   \n",
       "3          MAE   16.960795  0.910660  0.787092  0.809188  0.841933  0.766055   \n",
       "\n",
       "     mfAVEC  \n",
       "0  0.952166  \n",
       "1  0.975790  \n",
       "2  0.519741  \n",
       "3  0.746737  "
      ]
     },
     "execution_count": 63,
     "metadata": {},
     "output_type": "execute_result"
    }
   ],
   "source": [
    "results_TGE = pd.concat([m0_res_TGE['Name_metrics'], m0_res_TGE['result'], m1_res_TGE['result'], m2_res_TGE['result'], m3_res_TGE['result'], m4_res_TGE['result'],\n",
    "                    mfsans_res_TGE['result'],\n",
    "                    mfavec_res_TGE['result']], axis = 1, keys = ['Name_metrics', \"m0\",\"m1\",\"m2\",\"m3\",\"m4\", \"mfSANS\", \"mfAVEC\"] )\n",
    "\n",
    "dfi.export(results_TGE, 'resultats_TotalGHGEmissions_table.png')\n",
    "results_TGE"
   ]
  },
  {
   "cell_type": "code",
   "execution_count": null,
   "id": "de15cb8d",
   "metadata": {},
   "outputs": [],
   "source": []
  }
 ],
 "metadata": {
  "kernelspec": {
   "display_name": "Python 3",
   "language": "python",
   "name": "python3"
  },
  "language_info": {
   "codemirror_mode": {
    "name": "ipython",
    "version": 3
   },
   "file_extension": ".py",
   "mimetype": "text/x-python",
   "name": "python",
   "nbconvert_exporter": "python",
   "pygments_lexer": "ipython3",
   "version": "3.8.8"
  }
 },
 "nbformat": 4,
 "nbformat_minor": 5
}
