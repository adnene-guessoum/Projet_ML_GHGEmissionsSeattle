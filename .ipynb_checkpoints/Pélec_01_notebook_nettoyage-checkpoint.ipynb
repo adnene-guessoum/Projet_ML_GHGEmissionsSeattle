{
 "cells": [
  {
   "cell_type": "markdown",
   "id": "b142b9e9",
   "metadata": {},
   "source": [
    "## Repères du notebook\n",
    "    \n",
    "   1. [Introduction](#introduction)\n",
    "   \n",
    "      [Observation des différences de colonnes](#obs)\n",
    "      \n",
    "      [Séparation de \"location\" dans data15](#loc)\n",
    "      \n",
    "      [Passage à un seul dataframe](#df)\n",
    "      \n",
    "      [Nettoyage: supression des bâtiments résidentiels](#res)\n",
    "      \n",
    "      [Nettoyage: doublons identifiants batiments](#double)\n",
    "      \n",
    "      \n",
    "   \n",
    "   2. [ Traitement valeurs manquantes et aberrantes ](#p1)\n",
    "   \n",
    "       [Valeurs manquantes: drop colonnes selon remplissage des variables](#var)\n",
    "       \n",
    "       [Nettoyage: forte corrélation des variables explicatives](#corr)\n",
    "       \n",
    "       [Nettoyage: intérêt faible des variables pour projet](#bof)\n",
    "       \n",
    "       [Nettoyage: individus avec valeurs manquantes et \"outliers\" pour variables à prédire](#drop)\n",
    "       \n",
    "   \n",
    "   3. [Feature engineering et traitement des données](#p2)\n",
    "       \n",
    "      [age des batiments à partir de l'année des données et l'année de construction](#âge)\n",
    "      \n",
    "      [Passage au log des targets](#log)\n",
    "      \n",
    "      [séparation du dataframe par types de données](#sep)\n",
    "      \n",
    "      \n",
    "   \n",
    "   4. [Contrôle et export des données nettoyées](#p3)"
   ]
  },
  {
   "cell_type": "code",
   "execution_count": 1,
   "id": "21ab1a01",
   "metadata": {},
   "outputs": [],
   "source": [
    "import numpy as np\n",
    "import pandas as pd\n",
    "import matplotlib.pyplot as plt\n",
    "import seaborn as sns\n",
    "import missingno as msno\n",
    "from sklearn import decomposition\n",
    "from sklearn import preprocessing\n",
    "from sklearn.impute import KNNImputer\n",
    "import statsmodels.formula.api\n",
    "import statsmodels.api\n",
    "import six\n",
    "import dataframe_image as dfi\n",
    "import scipy.stats as stats\n",
    "\n",
    "plt.style.use('seaborn-whitegrid')\n",
    "\n",
    "#options d'affichage\n",
    "pd.set_option('display.max_row', 200)\n",
    "pd.set_option('display.max_column', 70)"
   ]
  },
  {
   "cell_type": "markdown",
   "id": "512b849a",
   "metadata": {},
   "source": [
    "## 1. Introduction: Chargement des données et observations <a class=\"anchor\" id=\"introduction\"></a>"
   ]
  },
  {
   "cell_type": "code",
   "execution_count": 2,
   "id": "e88baf89",
   "metadata": {},
   "outputs": [
    {
     "ename": "FileNotFoundError",
     "evalue": "[Errno 2] No such file or directory: 'données/building-energy-benchmarking-15.csv'",
     "output_type": "error",
     "traceback": [
      "\u001b[1;31m---------------------------------------------------------------------------\u001b[0m",
      "\u001b[1;31mFileNotFoundError\u001b[0m                         Traceback (most recent call last)",
      "\u001b[1;32m<ipython-input-2-eb180bb477f3>\u001b[0m in \u001b[0;36m<module>\u001b[1;34m\u001b[0m\n\u001b[1;32m----> 1\u001b[1;33m \u001b[0mdata_15\u001b[0m \u001b[1;33m=\u001b[0m \u001b[0mpd\u001b[0m\u001b[1;33m.\u001b[0m\u001b[0mread_csv\u001b[0m\u001b[1;33m(\u001b[0m\u001b[1;34m'données/building-energy-benchmarking-15.csv'\u001b[0m\u001b[1;33m)\u001b[0m\u001b[1;33m\u001b[0m\u001b[1;33m\u001b[0m\u001b[0m\n\u001b[0m\u001b[0;32m      2\u001b[0m \u001b[0mdata_16\u001b[0m \u001b[1;33m=\u001b[0m \u001b[0mpd\u001b[0m\u001b[1;33m.\u001b[0m\u001b[0mread_csv\u001b[0m\u001b[1;33m(\u001b[0m\u001b[1;34m'données/building-energy-benchmarking-16.csv'\u001b[0m\u001b[1;33m)\u001b[0m\u001b[1;33m\u001b[0m\u001b[1;33m\u001b[0m\u001b[0m\n",
      "\u001b[1;32m~\\anaconda3\\lib\\site-packages\\pandas\\io\\parsers.py\u001b[0m in \u001b[0;36mread_csv\u001b[1;34m(filepath_or_buffer, sep, delimiter, header, names, index_col, usecols, squeeze, prefix, mangle_dupe_cols, dtype, engine, converters, true_values, false_values, skipinitialspace, skiprows, skipfooter, nrows, na_values, keep_default_na, na_filter, verbose, skip_blank_lines, parse_dates, infer_datetime_format, keep_date_col, date_parser, dayfirst, cache_dates, iterator, chunksize, compression, thousands, decimal, lineterminator, quotechar, quoting, doublequote, escapechar, comment, encoding, dialect, error_bad_lines, warn_bad_lines, delim_whitespace, low_memory, memory_map, float_precision, storage_options)\u001b[0m\n\u001b[0;32m    608\u001b[0m     \u001b[0mkwds\u001b[0m\u001b[1;33m.\u001b[0m\u001b[0mupdate\u001b[0m\u001b[1;33m(\u001b[0m\u001b[0mkwds_defaults\u001b[0m\u001b[1;33m)\u001b[0m\u001b[1;33m\u001b[0m\u001b[1;33m\u001b[0m\u001b[0m\n\u001b[0;32m    609\u001b[0m \u001b[1;33m\u001b[0m\u001b[0m\n\u001b[1;32m--> 610\u001b[1;33m     \u001b[1;32mreturn\u001b[0m \u001b[0m_read\u001b[0m\u001b[1;33m(\u001b[0m\u001b[0mfilepath_or_buffer\u001b[0m\u001b[1;33m,\u001b[0m \u001b[0mkwds\u001b[0m\u001b[1;33m)\u001b[0m\u001b[1;33m\u001b[0m\u001b[1;33m\u001b[0m\u001b[0m\n\u001b[0m\u001b[0;32m    611\u001b[0m \u001b[1;33m\u001b[0m\u001b[0m\n\u001b[0;32m    612\u001b[0m \u001b[1;33m\u001b[0m\u001b[0m\n",
      "\u001b[1;32m~\\anaconda3\\lib\\site-packages\\pandas\\io\\parsers.py\u001b[0m in \u001b[0;36m_read\u001b[1;34m(filepath_or_buffer, kwds)\u001b[0m\n\u001b[0;32m    460\u001b[0m \u001b[1;33m\u001b[0m\u001b[0m\n\u001b[0;32m    461\u001b[0m     \u001b[1;31m# Create the parser.\u001b[0m\u001b[1;33m\u001b[0m\u001b[1;33m\u001b[0m\u001b[1;33m\u001b[0m\u001b[0m\n\u001b[1;32m--> 462\u001b[1;33m     \u001b[0mparser\u001b[0m \u001b[1;33m=\u001b[0m \u001b[0mTextFileReader\u001b[0m\u001b[1;33m(\u001b[0m\u001b[0mfilepath_or_buffer\u001b[0m\u001b[1;33m,\u001b[0m \u001b[1;33m**\u001b[0m\u001b[0mkwds\u001b[0m\u001b[1;33m)\u001b[0m\u001b[1;33m\u001b[0m\u001b[1;33m\u001b[0m\u001b[0m\n\u001b[0m\u001b[0;32m    463\u001b[0m \u001b[1;33m\u001b[0m\u001b[0m\n\u001b[0;32m    464\u001b[0m     \u001b[1;32mif\u001b[0m \u001b[0mchunksize\u001b[0m \u001b[1;32mor\u001b[0m \u001b[0miterator\u001b[0m\u001b[1;33m:\u001b[0m\u001b[1;33m\u001b[0m\u001b[1;33m\u001b[0m\u001b[0m\n",
      "\u001b[1;32m~\\anaconda3\\lib\\site-packages\\pandas\\io\\parsers.py\u001b[0m in \u001b[0;36m__init__\u001b[1;34m(self, f, engine, **kwds)\u001b[0m\n\u001b[0;32m    817\u001b[0m             \u001b[0mself\u001b[0m\u001b[1;33m.\u001b[0m\u001b[0moptions\u001b[0m\u001b[1;33m[\u001b[0m\u001b[1;34m\"has_index_names\"\u001b[0m\u001b[1;33m]\u001b[0m \u001b[1;33m=\u001b[0m \u001b[0mkwds\u001b[0m\u001b[1;33m[\u001b[0m\u001b[1;34m\"has_index_names\"\u001b[0m\u001b[1;33m]\u001b[0m\u001b[1;33m\u001b[0m\u001b[1;33m\u001b[0m\u001b[0m\n\u001b[0;32m    818\u001b[0m \u001b[1;33m\u001b[0m\u001b[0m\n\u001b[1;32m--> 819\u001b[1;33m         \u001b[0mself\u001b[0m\u001b[1;33m.\u001b[0m\u001b[0m_engine\u001b[0m \u001b[1;33m=\u001b[0m \u001b[0mself\u001b[0m\u001b[1;33m.\u001b[0m\u001b[0m_make_engine\u001b[0m\u001b[1;33m(\u001b[0m\u001b[0mself\u001b[0m\u001b[1;33m.\u001b[0m\u001b[0mengine\u001b[0m\u001b[1;33m)\u001b[0m\u001b[1;33m\u001b[0m\u001b[1;33m\u001b[0m\u001b[0m\n\u001b[0m\u001b[0;32m    820\u001b[0m \u001b[1;33m\u001b[0m\u001b[0m\n\u001b[0;32m    821\u001b[0m     \u001b[1;32mdef\u001b[0m \u001b[0mclose\u001b[0m\u001b[1;33m(\u001b[0m\u001b[0mself\u001b[0m\u001b[1;33m)\u001b[0m\u001b[1;33m:\u001b[0m\u001b[1;33m\u001b[0m\u001b[1;33m\u001b[0m\u001b[0m\n",
      "\u001b[1;32m~\\anaconda3\\lib\\site-packages\\pandas\\io\\parsers.py\u001b[0m in \u001b[0;36m_make_engine\u001b[1;34m(self, engine)\u001b[0m\n\u001b[0;32m   1048\u001b[0m             )\n\u001b[0;32m   1049\u001b[0m         \u001b[1;31m# error: Too many arguments for \"ParserBase\"\u001b[0m\u001b[1;33m\u001b[0m\u001b[1;33m\u001b[0m\u001b[1;33m\u001b[0m\u001b[0m\n\u001b[1;32m-> 1050\u001b[1;33m         \u001b[1;32mreturn\u001b[0m \u001b[0mmapping\u001b[0m\u001b[1;33m[\u001b[0m\u001b[0mengine\u001b[0m\u001b[1;33m]\u001b[0m\u001b[1;33m(\u001b[0m\u001b[0mself\u001b[0m\u001b[1;33m.\u001b[0m\u001b[0mf\u001b[0m\u001b[1;33m,\u001b[0m \u001b[1;33m**\u001b[0m\u001b[0mself\u001b[0m\u001b[1;33m.\u001b[0m\u001b[0moptions\u001b[0m\u001b[1;33m)\u001b[0m  \u001b[1;31m# type: ignore[call-arg]\u001b[0m\u001b[1;33m\u001b[0m\u001b[1;33m\u001b[0m\u001b[0m\n\u001b[0m\u001b[0;32m   1051\u001b[0m \u001b[1;33m\u001b[0m\u001b[0m\n\u001b[0;32m   1052\u001b[0m     \u001b[1;32mdef\u001b[0m \u001b[0m_failover_to_python\u001b[0m\u001b[1;33m(\u001b[0m\u001b[0mself\u001b[0m\u001b[1;33m)\u001b[0m\u001b[1;33m:\u001b[0m\u001b[1;33m\u001b[0m\u001b[1;33m\u001b[0m\u001b[0m\n",
      "\u001b[1;32m~\\anaconda3\\lib\\site-packages\\pandas\\io\\parsers.py\u001b[0m in \u001b[0;36m__init__\u001b[1;34m(self, src, **kwds)\u001b[0m\n\u001b[0;32m   1865\u001b[0m \u001b[1;33m\u001b[0m\u001b[0m\n\u001b[0;32m   1866\u001b[0m         \u001b[1;31m# open handles\u001b[0m\u001b[1;33m\u001b[0m\u001b[1;33m\u001b[0m\u001b[1;33m\u001b[0m\u001b[0m\n\u001b[1;32m-> 1867\u001b[1;33m         \u001b[0mself\u001b[0m\u001b[1;33m.\u001b[0m\u001b[0m_open_handles\u001b[0m\u001b[1;33m(\u001b[0m\u001b[0msrc\u001b[0m\u001b[1;33m,\u001b[0m \u001b[0mkwds\u001b[0m\u001b[1;33m)\u001b[0m\u001b[1;33m\u001b[0m\u001b[1;33m\u001b[0m\u001b[0m\n\u001b[0m\u001b[0;32m   1868\u001b[0m         \u001b[1;32massert\u001b[0m \u001b[0mself\u001b[0m\u001b[1;33m.\u001b[0m\u001b[0mhandles\u001b[0m \u001b[1;32mis\u001b[0m \u001b[1;32mnot\u001b[0m \u001b[1;32mNone\u001b[0m\u001b[1;33m\u001b[0m\u001b[1;33m\u001b[0m\u001b[0m\n\u001b[0;32m   1869\u001b[0m         \u001b[1;32mfor\u001b[0m \u001b[0mkey\u001b[0m \u001b[1;32min\u001b[0m \u001b[1;33m(\u001b[0m\u001b[1;34m\"storage_options\"\u001b[0m\u001b[1;33m,\u001b[0m \u001b[1;34m\"encoding\"\u001b[0m\u001b[1;33m,\u001b[0m \u001b[1;34m\"memory_map\"\u001b[0m\u001b[1;33m,\u001b[0m \u001b[1;34m\"compression\"\u001b[0m\u001b[1;33m)\u001b[0m\u001b[1;33m:\u001b[0m\u001b[1;33m\u001b[0m\u001b[1;33m\u001b[0m\u001b[0m\n",
      "\u001b[1;32m~\\anaconda3\\lib\\site-packages\\pandas\\io\\parsers.py\u001b[0m in \u001b[0;36m_open_handles\u001b[1;34m(self, src, kwds)\u001b[0m\n\u001b[0;32m   1360\u001b[0m         \u001b[0mLet\u001b[0m \u001b[0mthe\u001b[0m \u001b[0mreaders\u001b[0m \u001b[0mopen\u001b[0m \u001b[0mIOHanldes\u001b[0m \u001b[0mafter\u001b[0m \u001b[0mthey\u001b[0m \u001b[0mare\u001b[0m \u001b[0mdone\u001b[0m \u001b[1;32mwith\u001b[0m \u001b[0mtheir\u001b[0m \u001b[0mpotential\u001b[0m \u001b[0mraises\u001b[0m\u001b[1;33m.\u001b[0m\u001b[1;33m\u001b[0m\u001b[1;33m\u001b[0m\u001b[0m\n\u001b[0;32m   1361\u001b[0m         \"\"\"\n\u001b[1;32m-> 1362\u001b[1;33m         self.handles = get_handle(\n\u001b[0m\u001b[0;32m   1363\u001b[0m             \u001b[0msrc\u001b[0m\u001b[1;33m,\u001b[0m\u001b[1;33m\u001b[0m\u001b[1;33m\u001b[0m\u001b[0m\n\u001b[0;32m   1364\u001b[0m             \u001b[1;34m\"r\"\u001b[0m\u001b[1;33m,\u001b[0m\u001b[1;33m\u001b[0m\u001b[1;33m\u001b[0m\u001b[0m\n",
      "\u001b[1;32m~\\anaconda3\\lib\\site-packages\\pandas\\io\\common.py\u001b[0m in \u001b[0;36mget_handle\u001b[1;34m(path_or_buf, mode, encoding, compression, memory_map, is_text, errors, storage_options)\u001b[0m\n\u001b[0;32m    640\u001b[0m                 \u001b[0merrors\u001b[0m \u001b[1;33m=\u001b[0m \u001b[1;34m\"replace\"\u001b[0m\u001b[1;33m\u001b[0m\u001b[1;33m\u001b[0m\u001b[0m\n\u001b[0;32m    641\u001b[0m             \u001b[1;31m# Encoding\u001b[0m\u001b[1;33m\u001b[0m\u001b[1;33m\u001b[0m\u001b[1;33m\u001b[0m\u001b[0m\n\u001b[1;32m--> 642\u001b[1;33m             handle = open(\n\u001b[0m\u001b[0;32m    643\u001b[0m                 \u001b[0mhandle\u001b[0m\u001b[1;33m,\u001b[0m\u001b[1;33m\u001b[0m\u001b[1;33m\u001b[0m\u001b[0m\n\u001b[0;32m    644\u001b[0m                 \u001b[0mioargs\u001b[0m\u001b[1;33m.\u001b[0m\u001b[0mmode\u001b[0m\u001b[1;33m,\u001b[0m\u001b[1;33m\u001b[0m\u001b[1;33m\u001b[0m\u001b[0m\n",
      "\u001b[1;31mFileNotFoundError\u001b[0m: [Errno 2] No such file or directory: 'données/building-energy-benchmarking-15.csv'"
     ]
    }
   ],
   "source": [
    "data_15 = pd.read_csv('données/building-energy-benchmarking-15.csv')\n",
    "data_16 = pd.read_csv('données/building-energy-benchmarking-16.csv')"
   ]
  },
  {
   "cell_type": "code",
   "execution_count": null,
   "id": "6c9bd723",
   "metadata": {},
   "outputs": [],
   "source": [
    "data_15.head()"
   ]
  },
  {
   "cell_type": "code",
   "execution_count": null,
   "id": "698f526e",
   "metadata": {},
   "outputs": [],
   "source": [
    "data_16.head()"
   ]
  },
  {
   "cell_type": "code",
   "execution_count": null,
   "id": "33bedd0b",
   "metadata": {},
   "outputs": [],
   "source": [
    "data_15.info()"
   ]
  },
  {
   "cell_type": "code",
   "execution_count": null,
   "id": "448bfd1d",
   "metadata": {
    "scrolled": true
   },
   "outputs": [],
   "source": [
    "data_16.info()"
   ]
  },
  {
   "cell_type": "code",
   "execution_count": null,
   "id": "d3492ef2",
   "metadata": {},
   "outputs": [],
   "source": [
    "print(data_15.columns)\n",
    "data_15.shape"
   ]
  },
  {
   "cell_type": "code",
   "execution_count": null,
   "id": "1fa1ae6c",
   "metadata": {},
   "outputs": [],
   "source": [
    "data_16.columns"
   ]
  },
  {
   "cell_type": "markdown",
   "id": "736708c4",
   "metadata": {},
   "source": [
    "## Observation des différences de colonnes <a class=\"anchor\" id=\"obs\"></a>"
   ]
  },
  {
   "cell_type": "code",
   "execution_count": null,
   "id": "4c4ab188",
   "metadata": {},
   "outputs": [],
   "source": [
    "#on cherche les différences de colonnes entre les deux dataframes\n",
    "mis_col = data_15.columns[~data_15.columns.isin(data_16.columns)]"
   ]
  },
  {
   "cell_type": "code",
   "execution_count": null,
   "id": "d6c2fcba",
   "metadata": {},
   "outputs": [],
   "source": [
    "mis_col"
   ]
  },
  {
   "cell_type": "code",
   "execution_count": null,
   "id": "8434f009",
   "metadata": {},
   "outputs": [],
   "source": [
    "#la colonne location de 2015 contient de nombreuses informations séparées dans le dataframe de 2016\n",
    "data_15['Location']"
   ]
  },
  {
   "cell_type": "code",
   "execution_count": null,
   "id": "523557bb",
   "metadata": {},
   "outputs": [],
   "source": [
    "data_15['Location'][0]"
   ]
  },
  {
   "cell_type": "markdown",
   "id": "07ee869a",
   "metadata": {},
   "source": [
    "## Séparation de \"location\" dans data15 <a class=\"anchor\" id=\"loc\"></a>"
   ]
  },
  {
   "cell_type": "code",
   "execution_count": null,
   "id": "8430fb62",
   "metadata": {},
   "outputs": [],
   "source": [
    "#on utrilise le module abstract syntax trees pour désempacter \"location\" puis \"human address\" avec des listes en compréhensions\n",
    "import ast\n",
    "data_15['Location'] = [ast.literal_eval(str(item)) for index, item in data_15.Location.iteritems()]\n",
    "data_15 = pd.concat([data_15.drop(['Location'], axis=1), data_15['Location'].apply(pd.Series)], axis=1)\n",
    "\n",
    "data_15['human_address'] = [ast.literal_eval(str(item)) for index, item in data_15.human_address.iteritems()]\n",
    "data_15 = pd.concat([data_15.drop(['human_address'], axis=1), data_15['human_address'].apply(pd.Series)], axis=1)\n",
    "data_15.head()"
   ]
  },
  {
   "cell_type": "code",
   "execution_count": null,
   "id": "53c6ab57",
   "metadata": {},
   "outputs": [],
   "source": []
  },
  {
   "cell_type": "code",
   "execution_count": null,
   "id": "24fa17de",
   "metadata": {},
   "outputs": [],
   "source": [
    "#Renommer pour que les colonnes correspondent:\n",
    "data_15 = data_15.rename(columns={\"latitude\":\"Latitude\", \n",
    "                                  \"longitude\":\"Longitude\",\n",
    "                                  \"address\":\"Address\", \n",
    "                                  \"city\":\"City\", \n",
    "                                  \"state\":\"State\", \n",
    "                                  \"zip\":\"ZipCode\"})"
   ]
  },
  {
   "cell_type": "code",
   "execution_count": null,
   "id": "7d22d3a0",
   "metadata": {},
   "outputs": [],
   "source": [
    "#Est-ce qu'elles correspondent aux mêmes informations?\n",
    "print(data_15['GHGEmissions(MetricTonsCO2e)'].describe())\n",
    "data_15['GHGEmissionsIntensity(kgCO2e/ft2)'].describe()"
   ]
  },
  {
   "cell_type": "code",
   "execution_count": null,
   "id": "a79118c7",
   "metadata": {},
   "outputs": [],
   "source": [
    "print(data_16['TotalGHGEmissions'].describe())\n",
    "data_16['GHGEmissionsIntensity'].describe()"
   ]
  },
  {
   "cell_type": "markdown",
   "id": "34a39c52",
   "metadata": {},
   "source": [
    "## Passage à un seul dataframe<a class=\"anchor\" id=\"df\"></a>"
   ]
  },
  {
   "cell_type": "code",
   "execution_count": null,
   "id": "90edef5a",
   "metadata": {},
   "outputs": [],
   "source": [
    "#Renommer:\n",
    "data_15 = data_15.rename(columns={'GHGEmissions(MetricTonsCO2e)':'TotalGHGEmissions',\n",
    "                                  'GHGEmissionsIntensity(kgCO2e/ft2)':'GHGEmissionsIntensity',\n",
    "                                  'Comment':'Comments'})"
   ]
  },
  {
   "cell_type": "code",
   "execution_count": null,
   "id": "9acc4c42",
   "metadata": {},
   "outputs": [],
   "source": [
    "# drop colonnes qui ne sont pas dans les deux dataframe\n",
    "mis_col = data_15.columns[~data_15.columns.isin(data_16.columns)]\n",
    "print(mis_col)\n",
    "data_15.drop(mis_col, axis=1, inplace=True)"
   ]
  },
  {
   "cell_type": "code",
   "execution_count": null,
   "id": "323a84bf",
   "metadata": {},
   "outputs": [],
   "source": [
    "#on vérifie les types avent la concaténation"
   ]
  },
  {
   "cell_type": "code",
   "execution_count": null,
   "id": "c6748250",
   "metadata": {},
   "outputs": [],
   "source": [
    "dtypes = pd.DataFrame([data_15.dtypes, data_16.dtypes])\n",
    "dtypes"
   ]
  },
  {
   "cell_type": "code",
   "execution_count": null,
   "id": "affa4c32",
   "metadata": {},
   "outputs": [],
   "source": [
    "#On recast pour que les dtypes correspondent:\n",
    "data_15[['Latitude','Longitude', 'ZipCode']] = data_15[['Latitude','Longitude', 'ZipCode']].astype('float64')"
   ]
  },
  {
   "cell_type": "code",
   "execution_count": null,
   "id": "e3c5b883",
   "metadata": {},
   "outputs": [],
   "source": [
    "data_16.columns[data_16.columns.isin(data_15.columns)]"
   ]
  },
  {
   "cell_type": "code",
   "execution_count": null,
   "id": "800dbc32",
   "metadata": {},
   "outputs": [],
   "source": [
    "#Assembler les deux dataframes:\n",
    "r_data = pd.concat([data_15[data_16.columns],data_16], axis = 0).sort_values([\"DataYear\", \"OSEBuildingID\"])\n",
    "r_data.shape"
   ]
  },
  {
   "cell_type": "code",
   "execution_count": null,
   "id": "856cc419",
   "metadata": {},
   "outputs": [],
   "source": [
    "r_data.info()"
   ]
  },
  {
   "cell_type": "markdown",
   "id": "92ceadee",
   "metadata": {},
   "source": [
    "## Nettoyage: supression des bâtiments résidentiels<a class=\"anchor\" id=\"res\"></a>"
   ]
  },
  {
   "cell_type": "code",
   "execution_count": null,
   "id": "64d12a32",
   "metadata": {},
   "outputs": [],
   "source": [
    "#on s'intéresse au batiments \"non-habitations\" pour ce projet:\n",
    "r_data['BuildingType'].unique()\n"
   ]
  },
  {
   "cell_type": "code",
   "execution_count": null,
   "id": "6e22a192",
   "metadata": {},
   "outputs": [],
   "source": [
    "r_data = r_data[~r_data['BuildingType'].str.contains(\"Multifamily\")]\n",
    "r_data['BuildingType'].unique()"
   ]
  },
  {
   "cell_type": "code",
   "execution_count": null,
   "id": "76d1b7ef",
   "metadata": {},
   "outputs": [],
   "source": [
    "r_data.shape"
   ]
  },
  {
   "cell_type": "markdown",
   "id": "6d50f055",
   "metadata": {},
   "source": [
    "## Nettoyage: doublons identifiants batiments<a class=\"anchor\" id=\"double\"></a>"
   ]
  },
  {
   "cell_type": "code",
   "execution_count": null,
   "id": "26b7cc71",
   "metadata": {},
   "outputs": [],
   "source": [
    "#bonne idée reprise ici: se débarasser des batiments en double mais en conservant une moyenne des données continues pour saisir\n",
    "#une part de l'information: l'évolution entre l'année 2015 et 2016:\n",
    "\n",
    "mean_columns = ['NumberofBuildings', 'NumberofFloors', 'PropertyGFATotal',\n",
    "                'PropertyGFAParking', 'PropertyGFABuilding(s)',\n",
    "                'LargestPropertyUseTypeGFA', 'SecondLargestPropertyUseTypeGFA',\n",
    "                'ThirdLargestPropertyUseTypeGFA', 'ENERGYSTARScore', 'SiteEUI(kBtu/sf)',\n",
    "                'SiteEUIWN(kBtu/sf)', 'SourceEUI(kBtu/sf)', 'SourceEUIWN(kBtu/sf)',\n",
    "                'SiteEnergyUse(kBtu)', 'SiteEnergyUseWN(kBtu)', 'SteamUse(kBtu)',\n",
    "                'Electricity(kWh)', 'Electricity(kBtu)', 'NaturalGas(therms)',\n",
    "                'NaturalGas(kBtu)', 'TotalGHGEmissions', 'GHGEmissionsIntensity']\n",
    "OSEBuilding_means = r_data[['OSEBuildingID']+mean_columns].groupby('OSEBuildingID').mean()\n",
    "OSEBuilding_means.head()"
   ]
  },
  {
   "cell_type": "code",
   "execution_count": null,
   "id": "38c7f2e1",
   "metadata": {},
   "outputs": [],
   "source": [
    "#drop les doublons sur l'id des batiments et concaténation des moyennes entre les deux années:\n",
    "duplicate_building = r_data.drop_duplicates(subset=['OSEBuildingID'], keep='last')\n",
    "duplicate_building.drop(mean_columns, axis=1, inplace=True)\n",
    "r_data = pd.merge(duplicate_building, OSEBuilding_means, how='left', on='OSEBuildingID')"
   ]
  },
  {
   "cell_type": "code",
   "execution_count": null,
   "id": "6fe8f3e9",
   "metadata": {},
   "outputs": [],
   "source": [
    "#Vérification pour assurer qu'il n'y ait pas de grosses erreurs:\n",
    "r_data.info()"
   ]
  },
  {
   "cell_type": "code",
   "execution_count": null,
   "id": "168b4369",
   "metadata": {},
   "outputs": [],
   "source": []
  },
  {
   "cell_type": "markdown",
   "id": "85b562e2",
   "metadata": {},
   "source": [
    "## 2. Traitement valeurs manquantes et aberrantes <a class=\"anchor\" id=\"p1\"></a>"
   ]
  },
  {
   "cell_type": "markdown",
   "id": "332827c4",
   "metadata": {},
   "source": [
    "## Valeurs manquantes: remplissage des variables<a class=\"anchor\" id=\"var\"></a>"
   ]
  },
  {
   "cell_type": "code",
   "execution_count": null,
   "id": "a81d22bb",
   "metadata": {},
   "outputs": [],
   "source": [
    "#nombre total et pourcentage de valeurs manquantes dans le df \n",
    "def perc_mv(data):\n",
    "    Tot_missing_values = data.isna().sum().sum()\n",
    "    print('total valeurs manquantes: {} '.format(Tot_missing_values))\n",
    "    Tot_perc_missing_values = (Tot_missing_values/np.product(data.shape))*100\n",
    "    return Tot_perc_missing_values"
   ]
  },
  {
   "cell_type": "code",
   "execution_count": null,
   "id": "e6142b8e",
   "metadata": {},
   "outputs": [],
   "source": [
    "perc_mv(r_data)"
   ]
  },
  {
   "cell_type": "code",
   "execution_count": null,
   "id": "67fcc1d8",
   "metadata": {},
   "outputs": [],
   "source": [
    "msno.bar(r_data)"
   ]
  },
  {
   "cell_type": "code",
   "execution_count": null,
   "id": "faddca1b",
   "metadata": {},
   "outputs": [],
   "source": [
    "msno.matrix(r_data)"
   ]
  },
  {
   "cell_type": "code",
   "execution_count": null,
   "id": "4752a8f3",
   "metadata": {},
   "outputs": [],
   "source": [
    "#Conserver \"energy star score\" pour dernière étape.\n",
    "#Conserver uniquement les variables (colonnes) remplies à 80%.\n",
    "energy_stscore = r_data['ENERGYSTARScore']\n",
    "r_data = r_data.dropna(thresh = len(r_data)*0.8, axis=1)\n",
    "msno.bar(r_data)"
   ]
  },
  {
   "cell_type": "markdown",
   "id": "558d860e",
   "metadata": {},
   "source": [
    "## Nettoyage: forte corrélation des variables explicatives<a class=\"anchor\" id=\"corr\"></a>"
   ]
  },
  {
   "cell_type": "code",
   "execution_count": null,
   "id": "c3dc20d0",
   "metadata": {},
   "outputs": [],
   "source": [
    "\n",
    "# Creer correlation matrix\n",
    "mat_cor = r_data.corr().abs()\n",
    "\n",
    "# Conserver triangle superieur de correlation matrix\n",
    "upper = mat_cor.where(np.triu(np.ones(mat_cor.shape), k=1).astype(np.bool))\n",
    "\n",
    "# trouver les variables avec des corrélations supérieurs à 90%:\n",
    "to_drop = [column for column in upper.columns if any(upper[column] > 0.90)]\n",
    "to_drop\n",
    "\n"
   ]
  },
  {
   "cell_type": "code",
   "execution_count": null,
   "id": "1acf31ae",
   "metadata": {},
   "outputs": [],
   "source": [
    "#calculer et observer les corrélations entre les variables\n",
    "print(\"matrice des corrélations fortes:\")\n",
    "corr_df = r_data[to_drop].corr(method='pearson')\n",
    "\n",
    "plt.figure(figsize=(8, 6))\n",
    "sns.heatmap(corr_df, cmap = 'RdBu_r', annot=True)\n",
    "plt.show()"
   ]
  },
  {
   "cell_type": "code",
   "execution_count": null,
   "id": "6e7a492e",
   "metadata": {},
   "outputs": [],
   "source": [
    "# variables redondantes: drop features pour nos modèles: \n",
    "to_drop = ['PropertyGFABuilding(s)',\n",
    "           'LargestPropertyUseTypeGFA',\n",
    "           'SiteEUIWN(kBtu/sf)',\n",
    "           'SourceEUI(kBtu/sf)',\n",
    "           'SourceEUIWN(kBtu/sf)',\n",
    "           'Electricity(kWh)']\n",
    "r_data.drop(to_drop, axis=1, inplace=True)"
   ]
  },
  {
   "cell_type": "code",
   "execution_count": null,
   "id": "07cfc38b",
   "metadata": {},
   "outputs": [],
   "source": [
    "r_data.info()"
   ]
  },
  {
   "cell_type": "markdown",
   "id": "d61d70fc",
   "metadata": {},
   "source": [
    "## Nettoyage: intérêt faible des variables pour projet<a class=\"anchor\" id=\"bof\"></a>"
   ]
  },
  {
   "cell_type": "code",
   "execution_count": null,
   "id": "cd2cd834",
   "metadata": {},
   "outputs": [],
   "source": [
    "r_data.columns"
   ]
  },
  {
   "cell_type": "code",
   "execution_count": null,
   "id": "4d2a68dc",
   "metadata": {},
   "outputs": [],
   "source": [
    "#WN: weather normalised, NaturalGas: déja sous forme Kbtu\n",
    "r_data.drop(['SiteEnergyUseWN(kBtu)','NaturalGas(therms)', 'DefaultData'], axis=1, inplace=True)\n"
   ]
  },
  {
   "cell_type": "code",
   "execution_count": null,
   "id": "fac57f07",
   "metadata": {},
   "outputs": [],
   "source": []
  },
  {
   "cell_type": "code",
   "execution_count": null,
   "id": "a8ddbd6d",
   "metadata": {},
   "outputs": [],
   "source": [
    "#réintroduction dans dataset d'enrgy star score avant traitement des lignes\n",
    "r_data['ENERGYSTARScore'] = energy_stscore\n",
    "r_data.columns"
   ]
  },
  {
   "cell_type": "code",
   "execution_count": null,
   "id": "4e2eab1a",
   "metadata": {},
   "outputs": [],
   "source": [
    "r_data.describe()"
   ]
  },
  {
   "cell_type": "markdown",
   "id": "d27a161e",
   "metadata": {},
   "source": [
    "## Nettoyage: individus (lignes) avec valeurs manquantes et outliers pour variables à prédire<a class=\"anchor\" id=\"drop\"></a>"
   ]
  },
  {
   "cell_type": "raw",
   "id": "487e7968",
   "metadata": {},
   "source": [
    "Variables à prédire: \n",
    "'SiteEnergyUse(kBtu)' -> consommation d'énergie du batiment\n",
    "'TotalGHGEmissions' -> total emissions de co2\n"
   ]
  },
  {
   "cell_type": "code",
   "execution_count": null,
   "id": "111ff0d9",
   "metadata": {},
   "outputs": [],
   "source": [
    "#drop lignes manquantes dans nos var à prédire\n",
    "r_data = r_data[~((r_data['SiteEnergyUse(kBtu)'].isnull()) | (r_data['TotalGHGEmissions'].isnull()))]"
   ]
  },
  {
   "cell_type": "code",
   "execution_count": null,
   "id": "664bbdc4",
   "metadata": {},
   "outputs": [],
   "source": [
    "#zscore sup à trois écarts types\n",
    "r_data = r_data[(np.abs(stats.zscore(r_data[['TotalGHGEmissions',\n",
    "                                             'SiteEnergyUse(kBtu)']] ,\n",
    "                                        nan_policy='omit')) < 3).all(axis=1)]"
   ]
  },
  {
   "cell_type": "markdown",
   "id": "397a8141",
   "metadata": {},
   "source": [
    "## 3. \"Feature engineering\" et traitement des données<a class=\"anchor\" id=\"p2\"></a>"
   ]
  },
  {
   "cell_type": "markdown",
   "id": "406b4b34",
   "metadata": {},
   "source": [
    "## age des batiments à partir de l'année des données et l'année de construction<a class=\"anchor\" id=\"âge\"></a>"
   ]
  },
  {
   "cell_type": "code",
   "execution_count": null,
   "id": "675394b9",
   "metadata": {},
   "outputs": [],
   "source": [
    "#age des batiments plutôt qu'année: feature engineering.\n",
    "r_data['BuildingAge'] = r_data['DataYear'] - r_data['YearBuilt']\n",
    "r_data.drop('YearBuilt', axis=1, inplace=True)"
   ]
  },
  {
   "cell_type": "code",
   "execution_count": null,
   "id": "e59389d8",
   "metadata": {},
   "outputs": [],
   "source": [
    "r_data.info()"
   ]
  },
  {
   "cell_type": "markdown",
   "id": "6d184ec4",
   "metadata": {},
   "source": [
    "## Passage au log des targets<a class=\"anchor\" id=\"log\"></a>"
   ]
  },
  {
   "cell_type": "code",
   "execution_count": null,
   "id": "a89f84f7",
   "metadata": {},
   "outputs": [],
   "source": [
    "r_data[['SiteEnergyUse(kBtu)']].describe"
   ]
  },
  {
   "cell_type": "code",
   "execution_count": null,
   "id": "8dc77088",
   "metadata": {},
   "outputs": [],
   "source": [
    "r_data[['SiteEnergyUse(kBtu)']].hist(bins=300)"
   ]
  },
  {
   "cell_type": "code",
   "execution_count": null,
   "id": "c87d473d",
   "metadata": {},
   "outputs": [],
   "source": [
    "#On passe au log pour espacer et \"normaliser\" les données: données et predictions plus lisibles\n",
    "r_data['SiteEnergyUse(kBtu)'] = np.log(r_data['SiteEnergyUse(kBtu)'])\n",
    "\n",
    "print(r_data[r_data['SiteEnergyUse(kBtu)'] < 0].head)\n",
    "\n",
    "r_data.drop(r_data[r_data['SiteEnergyUse(kBtu)'] < 0].index, inplace = True)\n",
    "\n",
    "r_data[r_data['SiteEnergyUse(kBtu)'] < 0]"
   ]
  },
  {
   "cell_type": "code",
   "execution_count": null,
   "id": "6f12e382",
   "metadata": {},
   "outputs": [],
   "source": [
    "r_data[['SiteEnergyUse(kBtu)']].hist(bins=300)"
   ]
  },
  {
   "cell_type": "code",
   "execution_count": null,
   "id": "5b88cd89",
   "metadata": {},
   "outputs": [],
   "source": [
    "#idem pour total emissions carbonne :\n",
    "r_data[['TotalGHGEmissions']].hist(bins=300)"
   ]
  },
  {
   "cell_type": "code",
   "execution_count": null,
   "id": "6e30ac8a",
   "metadata": {},
   "outputs": [],
   "source": [
    "r_data['TotalGHGEmissions'] = np.log(r_data['TotalGHGEmissions'])\n",
    "\n",
    "print(r_data[r_data['TotalGHGEmissions'] < 0].head)\n",
    "\n",
    "r_data.drop(r_data[r_data['TotalGHGEmissions'] < 0].index, inplace = True)\n",
    "\n",
    "r_data[r_data['TotalGHGEmissions'] < 0]"
   ]
  },
  {
   "cell_type": "code",
   "execution_count": null,
   "id": "7a79c9a3",
   "metadata": {},
   "outputs": [],
   "source": [
    "r_data[['TotalGHGEmissions']].hist(bins=300)"
   ]
  },
  {
   "cell_type": "markdown",
   "id": "315e91fa",
   "metadata": {},
   "source": [
    "## séparation du dataframe par types de données<a class=\"anchor\" id=\"sep\"></a>"
   ]
  },
  {
   "cell_type": "code",
   "execution_count": null,
   "id": "cb51434e",
   "metadata": {},
   "outputs": [],
   "source": [
    "# projet: \"L’objectif est de te passer des relevés de consommation annuels\"\n",
    "#séparer données annuels\n",
    "annual_features = ['SteamUse(kBtu)','Electricity(kBtu)',\n",
    "                         'NaturalGas(kBtu)','SiteEUI(kBtu/sf)']\n",
    "r_data_annual = r_data[annual_features]\n",
    "r_data.drop(annual_features, axis=1, inplace = True)\n"
   ]
  },
  {
   "cell_type": "code",
   "execution_count": null,
   "id": "5af04c8d",
   "metadata": {},
   "outputs": [],
   "source": [
    "#séparer données d'identification\n",
    "identification_features = ['OSEBuildingID', 'PropertyName', 'Address', 'ZipCode','City', 'State','TaxParcelIdentificationNumber', 'CouncilDistrictCode']\n",
    "r_data_identification = r_data[identification_features]\n",
    "r_data.drop(identification_features, axis=1, inplace = True)"
   ]
  },
  {
   "cell_type": "code",
   "execution_count": null,
   "id": "6b1bf5a0",
   "metadata": {},
   "outputs": [],
   "source": []
  },
  {
   "cell_type": "markdown",
   "id": "a3e1aee5",
   "metadata": {},
   "source": [
    "## 4. Contrôle et export des données nettoyées<a class=\"anchor\" id=\"p3\"></a>"
   ]
  },
  {
   "cell_type": "code",
   "execution_count": null,
   "id": "733cf0cd",
   "metadata": {},
   "outputs": [],
   "source": [
    "#calculer et observer les corrélations entre les variables: vérifier le nettoyage. Les deux variables à prédire \n",
    "#sont trés corrélés: pas de pblme pour nos prédictions.\n",
    "corr = r_data.corr()\n",
    "mask = np.zeros_like(corr)\n",
    "mask[np.triu_indices_from(mask)] = True\n",
    "fig, ax = plt.subplots(figsize=(15,15))\n",
    "ax = sns.heatmap(corr, annot=True, fmt=\".2f\", annot_kws={'size':8}, \n",
    "                 mask=mask, center=0, cmap=\"coolwarm\")\n",
    "plt.title(f\"Heatmap des corrélations linéaires\\n\")\n",
    "plt.show()"
   ]
  },
  {
   "cell_type": "code",
   "execution_count": null,
   "id": "7135e5ce",
   "metadata": {},
   "outputs": [],
   "source": [
    "r_data.info()"
   ]
  },
  {
   "cell_type": "code",
   "execution_count": null,
   "id": "4305230a",
   "metadata": {},
   "outputs": [],
   "source": [
    "msno.bar(r_data)"
   ]
  },
  {
   "cell_type": "code",
   "execution_count": null,
   "id": "029e0209",
   "metadata": {},
   "outputs": [],
   "source": [
    "perc_mv(r_data)"
   ]
  },
  {
   "cell_type": "code",
   "execution_count": null,
   "id": "2e066838",
   "metadata": {},
   "outputs": [],
   "source": [
    "#drop informations redondantes:\n",
    "r_data.drop(['Neighborhood','DataYear'], axis=1, inplace=True)"
   ]
  },
  {
   "cell_type": "code",
   "execution_count": null,
   "id": "75ea27c5",
   "metadata": {},
   "outputs": [],
   "source": [
    "num_data = r_data.select_dtypes(include=['int64','float64'])\n",
    "cat_data = r_data.select_dtypes(exclude=['int64','float64']) "
   ]
  },
  {
   "cell_type": "code",
   "execution_count": null,
   "id": "4bac9ba0",
   "metadata": {},
   "outputs": [],
   "source": [
    "cat_data.nunique()"
   ]
  },
  {
   "cell_type": "code",
   "execution_count": null,
   "id": "92a423c2",
   "metadata": {},
   "outputs": [],
   "source": [
    "cat_data.columns"
   ]
  },
  {
   "cell_type": "code",
   "execution_count": null,
   "id": "181615b5",
   "metadata": {},
   "outputs": [],
   "source": [
    "num_data.columns"
   ]
  },
  {
   "cell_type": "code",
   "execution_count": null,
   "id": "0582be51",
   "metadata": {},
   "outputs": [],
   "source": []
  },
  {
   "cell_type": "code",
   "execution_count": null,
   "id": "37bb19c0",
   "metadata": {},
   "outputs": [],
   "source": []
  },
  {
   "cell_type": "code",
   "execution_count": null,
   "id": "93e30295",
   "metadata": {},
   "outputs": [],
   "source": [
    "r_data.to_pickle(\"cleaned_data\")"
   ]
  }
 ],
 "metadata": {
  "kernelspec": {
   "display_name": "Python 3",
   "language": "python",
   "name": "python3"
  },
  "language_info": {
   "codemirror_mode": {
    "name": "ipython",
    "version": 3
   },
   "file_extension": ".py",
   "mimetype": "text/x-python",
   "name": "python",
   "nbconvert_exporter": "python",
   "pygments_lexer": "ipython3",
   "version": "3.8.8"
  }
 },
 "nbformat": 4,
 "nbformat_minor": 5
}
